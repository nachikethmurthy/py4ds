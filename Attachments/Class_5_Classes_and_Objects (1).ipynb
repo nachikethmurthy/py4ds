{
  "nbformat": 4,
  "nbformat_minor": 0,
  "metadata": {
    "colab": {
      "name": "Class 5 - Classes and Objects.ipynb",
      "provenance": [],
      "collapsed_sections": []
    },
    "kernelspec": {
      "name": "python3",
      "display_name": "Python 3"
    },
    "language_info": {
      "name": "python"
    }
  },
  "cells": [
    {
      "cell_type": "code",
      "execution_count": null,
      "metadata": {
        "id": "MEq2g1lBDdBl",
        "colab": {
          "base_uri": "https://localhost:8080/"
        },
        "outputId": "bca868a2-6816-42c3-a7d7-99b0dc9040ac"
      },
      "outputs": [
        {
          "output_type": "stream",
          "name": "stdout",
          "text": [
            "<class 'int'>\n",
            "<class 'list'>\n",
            "<class 'str'>\n",
            "<class 'tuple'>\n"
          ]
        }
      ],
      "source": [
        "x = 50\n",
        "y = [1,2,3,4]\n",
        "z = \"hello\"\n",
        "a = (10,20,30)\n",
        "\n",
        "print(type(x))\n",
        "print(type(y))\n",
        "print(type(z))\n",
        "print(type(a))"
      ]
    },
    {
      "cell_type": "markdown",
      "source": [
        "## Create Classes in python\n",
        "\n",
        "1. to define class we create with `class` keyword\n",
        "2. Variables inside a class is called `attribute`. To access an attribute, we call as - `object_name.attribute`\n",
        "3. Functions defined inside a class is called as `methods`\n",
        "4. class methods must have `self` as its first parameter (`self` is general name we use, but you are free to use any name)\n",
        "5. By using `self` in the method, we pass object itself as a first paramter\n",
        "6. So, when i call - `object.method()` , this will be converted to `class.method(object)`"
      ],
      "metadata": {
        "id": "8NT1jCMALXH7"
      }
    },
    {
      "cell_type": "code",
      "source": [
        "class example():\n",
        "  def fun(self):\n",
        "    pass"
      ],
      "metadata": {
        "id": "rjuZhUxULXlQ"
      },
      "execution_count": null,
      "outputs": []
    },
    {
      "cell_type": "markdown",
      "source": [
        "`obj_name = class_name()`"
      ],
      "metadata": {
        "id": "lFGYtpd6LzqH"
      }
    },
    {
      "cell_type": "code",
      "source": [
        "obj1 = example()\n",
        "print(obj1)"
      ],
      "metadata": {
        "colab": {
          "base_uri": "https://localhost:8080/"
        },
        "id": "K_bYfhLZLvGb",
        "outputId": "62477ed3-f71e-485c-b978-d7d90d06b86f"
      },
      "execution_count": null,
      "outputs": [
        {
          "output_type": "stream",
          "name": "stdout",
          "text": [
            "<__main__.example object at 0x7efdfe5fdc10>\n"
          ]
        }
      ]
    },
    {
      "cell_type": "code",
      "source": [
        "print(type(obj1.fun))"
      ],
      "metadata": {
        "colab": {
          "base_uri": "https://localhost:8080/"
        },
        "id": "UL7MOLx8L5oc",
        "outputId": "e15b918c-eada-4e50-9f8b-93658eff43e9"
      },
      "execution_count": null,
      "outputs": [
        {
          "output_type": "stream",
          "name": "stdout",
          "text": [
            "<class 'method'>\n"
          ]
        }
      ]
    },
    {
      "cell_type": "code",
      "source": [
        "obj2 = example()"
      ],
      "metadata": {
        "id": "2a8QZONuMCc-"
      },
      "execution_count": null,
      "outputs": []
    },
    {
      "cell_type": "markdown",
      "source": [
        "## Attributes\n",
        "\n",
        "Variable inside a class or object. During and after an object or class is created, we can assign attributes to it."
      ],
      "metadata": {
        "id": "hZf_NhocMT96"
      }
    },
    {
      "cell_type": "code",
      "source": [
        "class example():\n",
        "  pass"
      ],
      "metadata": {
        "id": "LJ3oY5nkMJda"
      },
      "execution_count": null,
      "outputs": []
    },
    {
      "cell_type": "code",
      "source": [
        "obj1 = example()\n",
        "obj2 = example()"
      ],
      "metadata": {
        "id": "4jdvN7HvMa3I"
      },
      "execution_count": null,
      "outputs": []
    },
    {
      "cell_type": "code",
      "source": [
        "obj1.name = \"John\"\n",
        "obj1.age = 42"
      ],
      "metadata": {
        "id": "KtLsuLvkMePw"
      },
      "execution_count": null,
      "outputs": []
    },
    {
      "cell_type": "code",
      "source": [
        "print(obj1.name,obj1.age)"
      ],
      "metadata": {
        "colab": {
          "base_uri": "https://localhost:8080/"
        },
        "id": "OQqrHefYMmCN",
        "outputId": "7390c62e-b88e-46b6-e466-baab3b7cf3d4"
      },
      "execution_count": null,
      "outputs": [
        {
          "output_type": "stream",
          "name": "stdout",
          "text": [
            "John 42\n"
          ]
        }
      ]
    },
    {
      "cell_type": "code",
      "source": [
        "obj2.name "
      ],
      "metadata": {
        "colab": {
          "base_uri": "https://localhost:8080/",
          "height": 166
        },
        "id": "-xhURxzcMqmJ",
        "outputId": "d00743e4-6d54-478a-c74c-916dad8b3646"
      },
      "execution_count": null,
      "outputs": [
        {
          "output_type": "error",
          "ename": "AttributeError",
          "evalue": "ignored",
          "traceback": [
            "\u001b[0;31m---------------------------------------------------------------------------\u001b[0m",
            "\u001b[0;31mAttributeError\u001b[0m                            Traceback (most recent call last)",
            "\u001b[0;32m<ipython-input-11-893a362f54ac>\u001b[0m in \u001b[0;36m<module>\u001b[0;34m()\u001b[0m\n\u001b[0;32m----> 1\u001b[0;31m \u001b[0mobj2\u001b[0m\u001b[0;34m.\u001b[0m\u001b[0mname\u001b[0m\u001b[0;34m\u001b[0m\u001b[0;34m\u001b[0m\u001b[0m\n\u001b[0m",
            "\u001b[0;31mAttributeError\u001b[0m: 'example' object has no attribute 'name'"
          ]
        }
      ]
    },
    {
      "cell_type": "code",
      "source": [
        "example.name = \"Lilly\"\n",
        "example.name"
      ],
      "metadata": {
        "colab": {
          "base_uri": "https://localhost:8080/",
          "height": 35
        },
        "id": "NI6Ao3WsMx-t",
        "outputId": "483c84e1-3537-408c-d1f1-1beb433183b3"
      },
      "execution_count": null,
      "outputs": [
        {
          "output_type": "execute_result",
          "data": {
            "application/vnd.google.colaboratory.intrinsic+json": {
              "type": "string"
            },
            "text/plain": [
              "'Lilly'"
            ]
          },
          "metadata": {},
          "execution_count": 12
        }
      ]
    },
    {
      "cell_type": "markdown",
      "source": [
        "## Initialization\n",
        "If we want to assign the object attributes during creation, we make use of `__init__()` method"
      ],
      "metadata": {
        "id": "WQBNZ6QtPax_"
      }
    },
    {
      "cell_type": "code",
      "source": [
        "class example():\n",
        "  def __init__(self,name):\n",
        "    self.name = name"
      ],
      "metadata": {
        "id": "YPyVEegCNLOn"
      },
      "execution_count": null,
      "outputs": []
    },
    {
      "cell_type": "code",
      "source": [
        "class example():\n",
        "  def __init__(var,name):\n",
        "    var.name = name"
      ],
      "metadata": {
        "id": "LAkmtoPnRY-C"
      },
      "execution_count": null,
      "outputs": []
    },
    {
      "cell_type": "code",
      "source": [
        "obj1 = example()"
      ],
      "metadata": {
        "colab": {
          "base_uri": "https://localhost:8080/",
          "height": 166
        },
        "id": "LbZoKSotPvdy",
        "outputId": "65154cd7-26c2-43a7-e979-3eae51e644d4"
      },
      "execution_count": null,
      "outputs": [
        {
          "output_type": "error",
          "ename": "TypeError",
          "evalue": "ignored",
          "traceback": [
            "\u001b[0;31m---------------------------------------------------------------------------\u001b[0m",
            "\u001b[0;31mTypeError\u001b[0m                                 Traceback (most recent call last)",
            "\u001b[0;32m<ipython-input-14-29fca71d68d4>\u001b[0m in \u001b[0;36m<module>\u001b[0;34m()\u001b[0m\n\u001b[0;32m----> 1\u001b[0;31m \u001b[0mobj1\u001b[0m \u001b[0;34m=\u001b[0m \u001b[0mexample\u001b[0m\u001b[0;34m(\u001b[0m\u001b[0;34m)\u001b[0m\u001b[0;34m\u001b[0m\u001b[0;34m\u001b[0m\u001b[0m\n\u001b[0m",
            "\u001b[0;31mTypeError\u001b[0m: __init__() missing 1 required positional argument: 'name'"
          ]
        }
      ]
    },
    {
      "cell_type": "code",
      "source": [
        "obj1 = example(\"Jack\")"
      ],
      "metadata": {
        "id": "JvNL2uq_P1P1"
      },
      "execution_count": null,
      "outputs": []
    },
    {
      "cell_type": "markdown",
      "source": [
        "### Steps :\n",
        "\n",
        "\n",
        "1.   System searches for class definition of `example`\n",
        "2.   creates a new object \n",
        "3.   calls the object's `__init__()` method by sending the newly created object as first argument, and the name `Jack` as second argument\n",
        "4.   Stores the value of `name` in the object\n",
        "5.    Returns a new object\n",
        "6. Attaches the variable `obj1` to the object\n"
      ],
      "metadata": {
        "id": "sJ__UHJfQABm"
      }
    },
    {
      "cell_type": "code",
      "source": [
        "obj1.name"
      ],
      "metadata": {
        "colab": {
          "base_uri": "https://localhost:8080/",
          "height": 35
        },
        "id": "ZjVxUttiP9pe",
        "outputId": "2b232454-86f5-4b91-f31a-c1e7aa3c6cb8"
      },
      "execution_count": null,
      "outputs": [
        {
          "output_type": "execute_result",
          "data": {
            "application/vnd.google.colaboratory.intrinsic+json": {
              "type": "string"
            },
            "text/plain": [
              "'Jack'"
            ]
          },
          "metadata": {},
          "execution_count": 16
        }
      ]
    },
    {
      "cell_type": "markdown",
      "source": [
        "### Activity: Create a class as `cake` and store the initialized value of flavor & person name into the attributes"
      ],
      "metadata": {
        "id": "1gRxmCeAQ5PB"
      }
    },
    {
      "cell_type": "code",
      "source": [
        "class cake():\n",
        "  def __init__(self,name,flavor):\n",
        "    self.name = name\n",
        "    self.flavor = flavor"
      ],
      "metadata": {
        "id": "__VHt7wEQ5Ii"
      },
      "execution_count": null,
      "outputs": []
    },
    {
      "cell_type": "code",
      "source": [
        "p1 = cake(\"John\", \"Vanilla\")"
      ],
      "metadata": {
        "id": "XR7LjwiXQwwD"
      },
      "execution_count": null,
      "outputs": []
    },
    {
      "cell_type": "code",
      "source": [
        "p1.name,p1.flavor"
      ],
      "metadata": {
        "colab": {
          "base_uri": "https://localhost:8080/"
        },
        "id": "bCo1MeDMSsJz",
        "outputId": "7551acbe-5443-4009-8e07-0e9222b16e62"
      },
      "execution_count": null,
      "outputs": [
        {
          "output_type": "execute_result",
          "data": {
            "text/plain": [
              "('John', 'Vanilla')"
            ]
          },
          "metadata": {},
          "execution_count": 20
        }
      ]
    },
    {
      "cell_type": "code",
      "source": [
        "class cake():\n",
        "  def __init__(self,name,flavor):\n",
        "    self.name = name\n",
        "    self.flavor = flavor\n",
        "  \n",
        "  def add(self,x,y):\n",
        "    self.x = x\n",
        "    self.y = y\n",
        "    return self.x + self.y"
      ],
      "metadata": {
        "id": "gei1N68MSt6K"
      },
      "execution_count": null,
      "outputs": []
    },
    {
      "cell_type": "code",
      "source": [
        "p1 = cake(\"Jacob\",\"Vanilla\")"
      ],
      "metadata": {
        "id": "iz-cKqzDTRPw"
      },
      "execution_count": null,
      "outputs": []
    },
    {
      "cell_type": "code",
      "source": [
        "p1.add(20,30)"
      ],
      "metadata": {
        "colab": {
          "base_uri": "https://localhost:8080/"
        },
        "id": "Lgi7VRigTVYg",
        "outputId": "6f8245ce-0722-482c-b0da-758934a14da4"
      },
      "execution_count": null,
      "outputs": [
        {
          "output_type": "execute_result",
          "data": {
            "text/plain": [
              "50"
            ]
          },
          "metadata": {},
          "execution_count": 23
        }
      ]
    },
    {
      "cell_type": "markdown",
      "source": [
        "### Activity: Create a Class that takes input as : radius, and has the methods which return Area & Circumference"
      ],
      "metadata": {
        "id": "-JrcKwHNTeTi"
      }
    },
    {
      "cell_type": "code",
      "source": [
        "# init method - receive radius\n",
        "# area() --> return 3.14*radius*radius\n",
        "# circumference --> return 2*3.14*radius"
      ],
      "metadata": {
        "id": "Fhacna6LTaUF"
      },
      "execution_count": null,
      "outputs": []
    },
    {
      "cell_type": "code",
      "source": [
        "class circle():\n",
        "  def __init__(self,radius):\n",
        "    self.radius = radius\n",
        "  \n",
        "  def area(self):\n",
        "    return 3.14*self.radius*self.radius\n",
        "  \n",
        "  def circumference(self):\n",
        "    return 2*3.14*self.radius"
      ],
      "metadata": {
        "id": "9N1kMxSTV4w1"
      },
      "execution_count": null,
      "outputs": []
    },
    {
      "cell_type": "code",
      "source": [
        "r1 = circle(20)\n",
        "r1.area() # return area\n",
        "# r1.circumference() # return circumference"
      ],
      "metadata": {
        "colab": {
          "base_uri": "https://localhost:8080/"
        },
        "id": "Ja5PYSS9TyoL",
        "outputId": "3546058a-6584-4f26-8368-50c18ae20add"
      },
      "execution_count": null,
      "outputs": [
        {
          "output_type": "execute_result",
          "data": {
            "text/plain": [
              "1256.0"
            ]
          },
          "metadata": {},
          "execution_count": 25
        }
      ]
    },
    {
      "cell_type": "code",
      "source": [
        "r1.circumference()"
      ],
      "metadata": {
        "colab": {
          "base_uri": "https://localhost:8080/"
        },
        "id": "5-F27oeYWYz7",
        "outputId": "c40cf50e-9b23-47fc-d3f0-50a0db1f790a"
      },
      "execution_count": null,
      "outputs": [
        {
          "output_type": "execute_result",
          "data": {
            "text/plain": [
              "125.60000000000001"
            ]
          },
          "metadata": {},
          "execution_count": 26
        }
      ]
    },
    {
      "cell_type": "markdown",
      "source": [
        "# Inheritence\n",
        "\n",
        "Create a new `class` *from* existing `class`, but with some addition or changes. Its a good way to use the code. \n",
        "\n",
        "Example: We perform this inheritence when we are building our own custom model from scratch in Tensorflow. \n",
        "\n",
        "\n",
        "```python:\n",
        "class Car:\n",
        "  pass\n",
        "\n",
        "class SUV(Car):\n",
        "  pass\n"
      ],
      "metadata": {
        "id": "waSlj7iYXQa9"
      }
    },
    {
      "cell_type": "code",
      "source": [
        "class Car():\n",
        "  pass\n",
        "\n",
        "class SUV(Car):\n",
        "  pass"
      ],
      "metadata": {
        "id": "uIyM_SqmWbbi"
      },
      "execution_count": null,
      "outputs": []
    },
    {
      "cell_type": "code",
      "source": [
        "issubclass(SUV,Car)"
      ],
      "metadata": {
        "colab": {
          "base_uri": "https://localhost:8080/"
        },
        "id": "psYpqS5AXpch",
        "outputId": "f22e543d-3979-4385-bcbb-a710b416f5ed"
      },
      "execution_count": null,
      "outputs": [
        {
          "output_type": "execute_result",
          "data": {
            "text/plain": [
              "True"
            ]
          },
          "metadata": {},
          "execution_count": 28
        }
      ]
    },
    {
      "cell_type": "markdown",
      "source": [
        "## Inherit from parent"
      ],
      "metadata": {
        "id": "AiAcytaKX2_B"
      }
    },
    {
      "cell_type": "code",
      "source": [
        "class Car():\n",
        "  def wheels(self):\n",
        "    print(\"I am a FWD car\")\n",
        "\n",
        "class SUV(Car):\n",
        "  pass"
      ],
      "metadata": {
        "id": "DTg4a8bxXt9g"
      },
      "execution_count": null,
      "outputs": []
    },
    {
      "cell_type": "code",
      "source": [
        "c1 = Car()\n",
        "c2 = SUV()"
      ],
      "metadata": {
        "id": "DQ2sWry2X9xQ"
      },
      "execution_count": null,
      "outputs": []
    },
    {
      "cell_type": "code",
      "source": [
        "c1.wheels()"
      ],
      "metadata": {
        "colab": {
          "base_uri": "https://localhost:8080/"
        },
        "id": "qYHqrLCRX_v9",
        "outputId": "e398ed66-5af1-492f-d8ec-5f24f54980d6"
      },
      "execution_count": null,
      "outputs": [
        {
          "output_type": "stream",
          "name": "stdout",
          "text": [
            "I am a FWD car\n"
          ]
        }
      ]
    },
    {
      "cell_type": "code",
      "source": [
        "c2.wheels()"
      ],
      "metadata": {
        "colab": {
          "base_uri": "https://localhost:8080/"
        },
        "id": "zFmb6rXbYCPo",
        "outputId": "7ffd04b2-574c-46fb-c9f4-421ffd44c52a"
      },
      "execution_count": null,
      "outputs": [
        {
          "output_type": "stream",
          "name": "stdout",
          "text": [
            "I am a FWD car\n"
          ]
        }
      ]
    },
    {
      "cell_type": "markdown",
      "source": [
        "## Override a Method\n"
      ],
      "metadata": {
        "id": "ViwSuom4YLQE"
      }
    },
    {
      "cell_type": "code",
      "source": [
        "class Car():\n",
        "  def wheels(self):\n",
        "    print(\"I am a FWD car\")\n",
        "\n",
        "class SUV(Car):\n",
        "  def wheels(self):\n",
        "    print(\"I am a 4WD Car\")"
      ],
      "metadata": {
        "id": "pTf-Ybq_YEoa"
      },
      "execution_count": null,
      "outputs": []
    },
    {
      "cell_type": "code",
      "source": [
        "c1 = Car()\n",
        "c2 = SUV()"
      ],
      "metadata": {
        "id": "m0ipOEOEYNKi"
      },
      "execution_count": null,
      "outputs": []
    },
    {
      "cell_type": "code",
      "source": [
        "c1.wheels()"
      ],
      "metadata": {
        "colab": {
          "base_uri": "https://localhost:8080/"
        },
        "id": "gdGEHht7YWl7",
        "outputId": "4aea6e5b-1e76-4881-f9ab-6e31bbea2e2b"
      },
      "execution_count": null,
      "outputs": [
        {
          "output_type": "stream",
          "name": "stdout",
          "text": [
            "I am a FWD car\n"
          ]
        }
      ]
    },
    {
      "cell_type": "code",
      "source": [
        "c2.wheels()"
      ],
      "metadata": {
        "colab": {
          "base_uri": "https://localhost:8080/"
        },
        "id": "9Gq9RhqrYXzF",
        "outputId": "62059f82-b43a-49ae-f283-8962959d85d2"
      },
      "execution_count": null,
      "outputs": [
        {
          "output_type": "stream",
          "name": "stdout",
          "text": [
            "I am a 4WD Car\n"
          ]
        }
      ]
    },
    {
      "cell_type": "code",
      "source": [
        "#Override a init method\n",
        "class Car:\n",
        "  def __init__(self,name):\n",
        "    self.name = name\n",
        "\n",
        "  def wheels(self):\n",
        "    print(f\"I am a FWD {self.name}\")\n",
        "\n",
        "class SUV(Car):\n",
        "  def __init__(self,name):\n",
        "    self.name = name\n",
        "\n",
        "  def wheels(self):\n",
        "    print(f\"I am a 4WD {self.name}\")"
      ],
      "metadata": {
        "id": "4A4wH_lrYYhv"
      },
      "execution_count": null,
      "outputs": []
    },
    {
      "cell_type": "code",
      "source": [
        "c1 = Car(\"Normal Car\")\n",
        "c2 = SUV(\"SUV Car\")"
      ],
      "metadata": {
        "id": "mXt2_ECvYv28"
      },
      "execution_count": null,
      "outputs": []
    },
    {
      "cell_type": "code",
      "source": [
        "c1.wheels()"
      ],
      "metadata": {
        "colab": {
          "base_uri": "https://localhost:8080/"
        },
        "id": "ezldRUDkY0Q7",
        "outputId": "1388fb11-9c5c-436a-b682-bab20d5a8255"
      },
      "execution_count": null,
      "outputs": [
        {
          "output_type": "stream",
          "name": "stdout",
          "text": [
            "I am a FWD Normal Car\n"
          ]
        }
      ]
    },
    {
      "cell_type": "code",
      "source": [
        "c2.wheels()"
      ],
      "metadata": {
        "colab": {
          "base_uri": "https://localhost:8080/"
        },
        "id": "g_u5GhVGY08Z",
        "outputId": "1039c553-a677-4ff6-870b-0bb5c3f087f5"
      },
      "execution_count": null,
      "outputs": [
        {
          "output_type": "stream",
          "name": "stdout",
          "text": [
            "I am a 4WD SUV Car\n"
          ]
        }
      ]
    },
    {
      "cell_type": "code",
      "source": [
        "c1.name"
      ],
      "metadata": {
        "colab": {
          "base_uri": "https://localhost:8080/",
          "height": 35
        },
        "id": "noqRTsx6Y1tv",
        "outputId": "a4fc2f31-dde2-4299-8df5-170efac95017"
      },
      "execution_count": null,
      "outputs": [
        {
          "output_type": "execute_result",
          "data": {
            "application/vnd.google.colaboratory.intrinsic+json": {
              "type": "string"
            },
            "text/plain": [
              "'Normal Car'"
            ]
          },
          "metadata": {},
          "execution_count": 42
        }
      ]
    },
    {
      "cell_type": "code",
      "source": [
        "c2.name"
      ],
      "metadata": {
        "colab": {
          "base_uri": "https://localhost:8080/",
          "height": 35
        },
        "id": "F3R_ANFmY4_X",
        "outputId": "2e45762f-1476-4206-9267-5ca2e993adc9"
      },
      "execution_count": null,
      "outputs": [
        {
          "output_type": "execute_result",
          "data": {
            "application/vnd.google.colaboratory.intrinsic+json": {
              "type": "string"
            },
            "text/plain": [
              "'SUV Car'"
            ]
          },
          "metadata": {},
          "execution_count": 43
        }
      ]
    },
    {
      "cell_type": "code",
      "source": [
        "# Add a new method in a child class\n",
        "\n",
        "#Add a new method\n",
        "class Car():\n",
        "  def __init__(self,name):\n",
        "    self.name = name\n",
        "\n",
        "  def wheels(self):\n",
        "    print(f\"I am a FWD {self.name}\")\n",
        "\n",
        "class SUV(Car):\n",
        "  def __init__(self,name):\n",
        "    self.name = name\n",
        "\n",
        "  def wheels(self):\n",
        "    print(f\"I am a 4WD {self.name}\")\n",
        "  \n",
        "  def seater(self):\n",
        "    print(f\"This {self.name} has 5+ seater\")"
      ],
      "metadata": {
        "id": "Qm9eu3yYY6DA"
      },
      "execution_count": null,
      "outputs": []
    },
    {
      "cell_type": "code",
      "source": [
        "c1 = Car(\"Normal\")\n",
        "c2 = SUV(\"SUV Car\")"
      ],
      "metadata": {
        "id": "aZL0YSzpZLqQ"
      },
      "execution_count": null,
      "outputs": []
    },
    {
      "cell_type": "code",
      "source": [
        "c2.seater()"
      ],
      "metadata": {
        "colab": {
          "base_uri": "https://localhost:8080/"
        },
        "id": "BSYUJTItZL90",
        "outputId": "c74ba63d-7c38-4564-9300-a286ebda91c1"
      },
      "execution_count": null,
      "outputs": [
        {
          "output_type": "stream",
          "name": "stdout",
          "text": [
            "This SUV Car has 5+ seater\n"
          ]
        }
      ]
    },
    {
      "cell_type": "code",
      "source": [
        "c1.seater()"
      ],
      "metadata": {
        "colab": {
          "base_uri": "https://localhost:8080/",
          "height": 166
        },
        "id": "jhmOPUfAZQc3",
        "outputId": "0cc4dd5f-5afe-4889-b21c-980adf64a139"
      },
      "execution_count": null,
      "outputs": [
        {
          "output_type": "error",
          "ename": "AttributeError",
          "evalue": "ignored",
          "traceback": [
            "\u001b[0;31m---------------------------------------------------------------------------\u001b[0m",
            "\u001b[0;31mAttributeError\u001b[0m                            Traceback (most recent call last)",
            "\u001b[0;32m<ipython-input-47-f74edb6efb71>\u001b[0m in \u001b[0;36m<module>\u001b[0;34m()\u001b[0m\n\u001b[0;32m----> 1\u001b[0;31m \u001b[0mc1\u001b[0m\u001b[0;34m.\u001b[0m\u001b[0mseater\u001b[0m\u001b[0;34m(\u001b[0m\u001b[0;34m)\u001b[0m\u001b[0;34m\u001b[0m\u001b[0;34m\u001b[0m\u001b[0m\n\u001b[0m",
            "\u001b[0;31mAttributeError\u001b[0m: 'Car' object has no attribute 'seater'"
          ]
        }
      ]
    },
    {
      "cell_type": "markdown",
      "source": [
        "## Get help from parent class using `super()`"
      ],
      "metadata": {
        "id": "I4gfkwQiZawe"
      }
    },
    {
      "cell_type": "code",
      "source": [
        "class Person():\n",
        "  def __init__(self,name):\n",
        "    self.name = name\n",
        "\n",
        "class Email(Person):\n",
        "  def __init__(self,name,email):\n",
        "    super().__init__(name)\n",
        "    self.email = email"
      ],
      "metadata": {
        "id": "XePsil8yZSfb"
      },
      "execution_count": null,
      "outputs": []
    },
    {
      "cell_type": "code",
      "source": [
        "p1 = Email(\"Jacob\", \"jacob@gmail.com\")"
      ],
      "metadata": {
        "id": "qn05jgzBaMJk"
      },
      "execution_count": null,
      "outputs": []
    },
    {
      "cell_type": "code",
      "source": [
        "p1.name"
      ],
      "metadata": {
        "colab": {
          "base_uri": "https://localhost:8080/",
          "height": 35
        },
        "id": "Mhe0wqgCaMi_",
        "outputId": "cf485ebf-855c-4255-ee7b-9dd4b71a50f8"
      },
      "execution_count": null,
      "outputs": [
        {
          "output_type": "execute_result",
          "data": {
            "application/vnd.google.colaboratory.intrinsic+json": {
              "type": "string"
            },
            "text/plain": [
              "'Jacob'"
            ]
          },
          "metadata": {},
          "execution_count": 50
        }
      ]
    },
    {
      "cell_type": "code",
      "source": [
        "p1.email"
      ],
      "metadata": {
        "colab": {
          "base_uri": "https://localhost:8080/",
          "height": 35
        },
        "id": "EhyzV3-naO5Z",
        "outputId": "5f206325-a59b-4b3b-aecd-d36863dd257b"
      },
      "execution_count": null,
      "outputs": [
        {
          "output_type": "execute_result",
          "data": {
            "application/vnd.google.colaboratory.intrinsic+json": {
              "type": "string"
            },
            "text/plain": [
              "'jacob@gmail.com'"
            ]
          },
          "metadata": {},
          "execution_count": 51
        }
      ]
    },
    {
      "cell_type": "markdown",
      "source": [
        "##  Multiple Inheritence"
      ],
      "metadata": {
        "id": "IWgjfvQFaVDA"
      }
    },
    {
      "cell_type": "code",
      "source": [
        "class Animal():\n",
        "  def says(self):\n",
        "    return \"I can speak\"\n",
        "\n",
        "class Horse(Animal):\n",
        "  def says(self):\n",
        "    return \"Neigh\"\n",
        "\n",
        "class Dog(Animal):\n",
        "  def says(self):\n",
        "    return \"Woof\"\n",
        "\n",
        "class Tiger(Animal):\n",
        "  pass\n",
        "  # def says(self):\n",
        "  #   return \"Roar\"\n",
        "\n",
        "class Donkey(Animal):\n",
        "  pass\n",
        "  # def says(self):\n",
        "  #   return \"Hee-Haw\""
      ],
      "metadata": {
        "id": "pwMx8dk7aQLZ"
      },
      "execution_count": null,
      "outputs": []
    },
    {
      "cell_type": "code",
      "source": [
        "class Mule(Donkey,Tiger,Dog):\n",
        "  pass"
      ],
      "metadata": {
        "id": "4ZzrzHDgait9"
      },
      "execution_count": null,
      "outputs": []
    },
    {
      "cell_type": "code",
      "source": [
        "m = Mule()"
      ],
      "metadata": {
        "id": "LWjKkUI7aoX4"
      },
      "execution_count": null,
      "outputs": []
    },
    {
      "cell_type": "code",
      "source": [
        "m.says()"
      ],
      "metadata": {
        "colab": {
          "base_uri": "https://localhost:8080/",
          "height": 35
        },
        "id": "6flE51sXaoq-",
        "outputId": "34a24f7c-cc17-42a5-853d-bdcd49ac94aa"
      },
      "execution_count": null,
      "outputs": [
        {
          "output_type": "execute_result",
          "data": {
            "application/vnd.google.colaboratory.intrinsic+json": {
              "type": "string"
            },
            "text/plain": [
              "'Woof'"
            ]
          },
          "metadata": {},
          "execution_count": 65
        }
      ]
    },
    {
      "cell_type": "code",
      "source": [
        "# Method Resolution Orderprint\n",
        "Mule.mro()"
      ],
      "metadata": {
        "colab": {
          "base_uri": "https://localhost:8080/"
        },
        "id": "lsKKrSTSa4FD",
        "outputId": "46dff2e7-5afa-43e1-d9f2-a170c895a062"
      },
      "execution_count": null,
      "outputs": [
        {
          "output_type": "execute_result",
          "data": {
            "text/plain": [
              "[__main__.Mule,\n",
              " __main__.Donkey,\n",
              " __main__.Tiger,\n",
              " __main__.Dog,\n",
              " __main__.Animal,\n",
              " object]"
            ]
          },
          "metadata": {},
          "execution_count": 68
        }
      ]
    },
    {
      "cell_type": "markdown",
      "source": [
        "\n",
        "Order of check:\n",
        "\n",
        "1.   Object itself\n",
        "2.   Object's class\n",
        "3.   Class's first parent\n",
        "4.   Class's Second parent\n",
        "5.   Class's Third parent\n",
        "6.   Original Class (Animal)\n",
        "\n"
      ],
      "metadata": {
        "id": "1MXbRzrDbtyR"
      }
    },
    {
      "cell_type": "markdown",
      "source": [
        "## Class and Object Attributes"
      ],
      "metadata": {
        "id": "n7UPpKLwd3kk"
      }
    },
    {
      "cell_type": "code",
      "source": [
        "class Fruit():\n",
        "  color = \"Orange\" # class attribute"
      ],
      "metadata": {
        "id": "W5p3KwG7a5vY"
      },
      "execution_count": null,
      "outputs": []
    },
    {
      "cell_type": "code",
      "source": [
        "orange = Fruit()"
      ],
      "metadata": {
        "id": "Ui7ItsWkeGBY"
      },
      "execution_count": null,
      "outputs": []
    },
    {
      "cell_type": "code",
      "source": [
        "orange.color"
      ],
      "metadata": {
        "colab": {
          "base_uri": "https://localhost:8080/",
          "height": 35
        },
        "id": "NED6Nj05eIEI",
        "outputId": "86ad99b6-3cac-4794-b0dc-c619841f6fcb"
      },
      "execution_count": null,
      "outputs": [
        {
          "output_type": "execute_result",
          "data": {
            "application/vnd.google.colaboratory.intrinsic+json": {
              "type": "string"
            },
            "text/plain": [
              "'Orange'"
            ]
          },
          "metadata": {},
          "execution_count": 71
        }
      ]
    },
    {
      "cell_type": "code",
      "source": [
        "orange.color = \"Red\"\n",
        "orange.color"
      ],
      "metadata": {
        "colab": {
          "base_uri": "https://localhost:8080/",
          "height": 35
        },
        "id": "ATY379kNeI1M",
        "outputId": "fdcb8b4e-c12f-4e4d-d071-3d9af62daa38"
      },
      "execution_count": null,
      "outputs": [
        {
          "output_type": "execute_result",
          "data": {
            "application/vnd.google.colaboratory.intrinsic+json": {
              "type": "string"
            },
            "text/plain": [
              "'Red'"
            ]
          },
          "metadata": {},
          "execution_count": 72
        }
      ]
    },
    {
      "cell_type": "code",
      "source": [
        "Fruit.color # class_name.attribute_name"
      ],
      "metadata": {
        "colab": {
          "base_uri": "https://localhost:8080/",
          "height": 35
        },
        "id": "ukIE3-XUeP5w",
        "outputId": "616711ad-e2bb-4fcd-c412-8c034d5d1d46"
      },
      "execution_count": null,
      "outputs": [
        {
          "output_type": "execute_result",
          "data": {
            "application/vnd.google.colaboratory.intrinsic+json": {
              "type": "string"
            },
            "text/plain": [
              "'Orange'"
            ]
          },
          "metadata": {},
          "execution_count": 73
        }
      ]
    },
    {
      "cell_type": "code",
      "source": [
        "Fruit.color = \"Blue\""
      ],
      "metadata": {
        "id": "Rhu-74odeWI7"
      },
      "execution_count": null,
      "outputs": []
    },
    {
      "cell_type": "code",
      "source": [
        "Fruit.color # class_name.attribute_name"
      ],
      "metadata": {
        "colab": {
          "base_uri": "https://localhost:8080/",
          "height": 35
        },
        "id": "IsYbyN_hec9L",
        "outputId": "46a5b958-3c31-4903-e490-ecba6a6f3829"
      },
      "execution_count": null,
      "outputs": [
        {
          "output_type": "execute_result",
          "data": {
            "application/vnd.google.colaboratory.intrinsic+json": {
              "type": "string"
            },
            "text/plain": [
              "'Blue'"
            ]
          },
          "metadata": {},
          "execution_count": 75
        }
      ]
    },
    {
      "cell_type": "code",
      "source": [
        "orange.color"
      ],
      "metadata": {
        "colab": {
          "base_uri": "https://localhost:8080/",
          "height": 35
        },
        "id": "lKiMMwPmeeF2",
        "outputId": "077bdba2-5312-498e-e30c-5e7b1e72f97a"
      },
      "execution_count": null,
      "outputs": [
        {
          "output_type": "execute_result",
          "data": {
            "application/vnd.google.colaboratory.intrinsic+json": {
              "type": "string"
            },
            "text/plain": [
              "'Red'"
            ]
          },
          "metadata": {},
          "execution_count": 76
        }
      ]
    },
    {
      "cell_type": "code",
      "source": [
        "blueberry = Fruit() #affects the new objects\n",
        "blueberry.color"
      ],
      "metadata": {
        "colab": {
          "base_uri": "https://localhost:8080/",
          "height": 35
        },
        "id": "UwJk9wIFegGS",
        "outputId": "74630469-829d-445f-f59c-8accbadd38d1"
      },
      "execution_count": null,
      "outputs": [
        {
          "output_type": "execute_result",
          "data": {
            "application/vnd.google.colaboratory.intrinsic+json": {
              "type": "string"
            },
            "text/plain": [
              "'Blue'"
            ]
          },
          "metadata": {},
          "execution_count": 77
        }
      ]
    },
    {
      "cell_type": "markdown",
      "source": [
        "## Public Vs Private Vs Protected"
      ],
      "metadata": {
        "id": "OpwMbRmJfEOn"
      }
    },
    {
      "cell_type": "code",
      "source": [
        "class Person():\n",
        "  def __init__(self,name, age, gender):\n",
        "    self.name = name # public\n",
        "    self._age = age # protected\n",
        "    self.__gender = gender # private"
      ],
      "metadata": {
        "id": "m5KGecJOekbC"
      },
      "execution_count": null,
      "outputs": []
    },
    {
      "cell_type": "code",
      "source": [
        "p1 = Person(\"John\",42,\"Male\")"
      ],
      "metadata": {
        "id": "DL4poqRmfUS1"
      },
      "execution_count": null,
      "outputs": []
    },
    {
      "cell_type": "code",
      "source": [
        "p1.name"
      ],
      "metadata": {
        "colab": {
          "base_uri": "https://localhost:8080/",
          "height": 35
        },
        "id": "nM5ajYaxfXgd",
        "outputId": "7b3f4949-5f2e-4e45-edb1-97d1dfe62bc2"
      },
      "execution_count": null,
      "outputs": [
        {
          "output_type": "execute_result",
          "data": {
            "application/vnd.google.colaboratory.intrinsic+json": {
              "type": "string"
            },
            "text/plain": [
              "'John'"
            ]
          },
          "metadata": {},
          "execution_count": 86
        }
      ]
    },
    {
      "cell_type": "code",
      "source": [
        "p1._age"
      ],
      "metadata": {
        "colab": {
          "base_uri": "https://localhost:8080/"
        },
        "id": "NIGJDkq6fYN1",
        "outputId": "c122a83c-5c4d-44a2-b3ad-095422af73d7"
      },
      "execution_count": null,
      "outputs": [
        {
          "output_type": "execute_result",
          "data": {
            "text/plain": [
              "42"
            ]
          },
          "metadata": {},
          "execution_count": 87
        }
      ]
    },
    {
      "cell_type": "code",
      "source": [
        "p1.__gender"
      ],
      "metadata": {
        "colab": {
          "base_uri": "https://localhost:8080/",
          "height": 166
        },
        "id": "AsIsdKUqfYpR",
        "outputId": "14b89c84-75e8-48d1-8aef-19bc13e48f34"
      },
      "execution_count": null,
      "outputs": [
        {
          "output_type": "error",
          "ename": "AttributeError",
          "evalue": "ignored",
          "traceback": [
            "\u001b[0;31m---------------------------------------------------------------------------\u001b[0m",
            "\u001b[0;31mAttributeError\u001b[0m                            Traceback (most recent call last)",
            "\u001b[0;32m<ipython-input-88-10f898ac5d1a>\u001b[0m in \u001b[0;36m<module>\u001b[0;34m()\u001b[0m\n\u001b[0;32m----> 1\u001b[0;31m \u001b[0mp1\u001b[0m\u001b[0;34m.\u001b[0m\u001b[0m__gender\u001b[0m\u001b[0;34m\u001b[0m\u001b[0;34m\u001b[0m\u001b[0m\n\u001b[0m",
            "\u001b[0;31mAttributeError\u001b[0m: 'Person' object has no attribute '__gender'"
          ]
        }
      ]
    },
    {
      "cell_type": "code",
      "source": [
        "p1._Person__gender"
      ],
      "metadata": {
        "colab": {
          "base_uri": "https://localhost:8080/",
          "height": 35
        },
        "id": "hshhfDQYfbQd",
        "outputId": "b0eb6902-b613-4330-9986-d4534b4438a8"
      },
      "execution_count": null,
      "outputs": [
        {
          "output_type": "execute_result",
          "data": {
            "application/vnd.google.colaboratory.intrinsic+json": {
              "type": "string"
            },
            "text/plain": [
              "'Male'"
            ]
          },
          "metadata": {},
          "execution_count": 90
        }
      ]
    },
    {
      "cell_type": "code",
      "source": [
        ""
      ],
      "metadata": {
        "id": "7WuVf4DFgA8v"
      },
      "execution_count": null,
      "outputs": []
    }
  ]
}