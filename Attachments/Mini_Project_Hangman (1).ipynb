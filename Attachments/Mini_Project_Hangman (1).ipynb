{
  "nbformat": 4,
  "nbformat_minor": 0,
  "metadata": {
    "kernelspec": {
      "display_name": "Python 3",
      "language": "python",
      "name": "python3"
    },
    "language_info": {
      "codemirror_mode": {
        "name": "ipython",
        "version": 3
      },
      "file_extension": ".py",
      "mimetype": "text/x-python",
      "name": "python",
      "nbconvert_exporter": "python",
      "pygments_lexer": "ipython3",
      "version": "3.7.3"
    },
    "colab": {
      "name": "Mini Project - Hangman.ipynb",
      "provenance": [],
      "collapsed_sections": []
    }
  },
  "cells": [
    {
      "cell_type": "markdown",
      "source": [
        "Help link: \n",
        "https://www.youtube.com/playlist?list=PL3Sk77w7CQs8W8pbuE5SSClP_MceDM2b0"
      ],
      "metadata": {
        "id": "k8q6ONVKg71M"
      }
    },
    {
      "cell_type": "code",
      "metadata": {
        "id": "6PFy8bECjFZV"
      },
      "source": [
        "\"\"\"\n",
        "Project Name : Hangman\n",
        "\n",
        "Required Functionality of the game :\n",
        "\n",
        "\n",
        "1. Program assumes a random word, and gives a hint as how many letters are present in that word\n",
        "\n",
        "2. Each player has 10 chances to find the correct word as assumed by program\n",
        "\n",
        "3. The Program can take either a single letter as input or the word as input\n",
        "\n",
        "4. If the user inputs the single letter. Then, if that particular letter is present in assumed word of program,\n",
        "   then, the program return that particuar letter's position in the word.\n",
        "   For Example: If the program's assumed correct word is --> FACEBOOK\n",
        "                & if the user has input the letter as --> O\n",
        "                then, the program should return as --> *****OO*\n",
        "                (that means giving the hint to the user about the position of input letter in the correct word)\n",
        "                \n",
        "5. If the user guesses the right word , then the program should display the - confirmation message with number of\n",
        "   moves made by user to guess the right word\n",
        "   \n",
        "6. If the user is unable to guess the right word after 10 chances, then the program should display the right word\n",
        "   selected by the program.\n",
        "\n",
        "\n",
        "scenarios to be covered:\n",
        "1. User Guesses Right word & system should display the output with number of chances used by user\n",
        "2. User is unable to guess the right word after 10 moves, then program should display the right word\n",
        "3. User inputs the wrong word as input, then proper instruction should be provided to the user\n",
        "\n",
        "All the best\n",
        "\n",
        "\"\"\";"
      ],
      "execution_count": null,
      "outputs": []
    },
    {
      "cell_type": "code",
      "metadata": {
        "id": "jX89IalmjFZX"
      },
      "source": [
        "import random\n",
        "random.seed(0)"
      ],
      "execution_count": null,
      "outputs": []
    },
    {
      "cell_type": "code",
      "metadata": {
        "id": "vIHO4skrjFZZ"
      },
      "source": [
        "class Hangman:\n",
        "    \n",
        "    def __init__(self):\n",
        "        self.words = ['twitter','india','iran','instagram','facebook','share','flash','motivation','decide','birds','love','plastic','trump','confess','nail','water','pen','kill','wait','stew']\n",
        "        \n",
        "        \n",
        "    def check(self,correct_word,guesses_list,user_guess):\n",
        "        status = ''\n",
        "        match = 0\n",
        "        for letter in correct_word:\n",
        "            if letter in guesses_list:\n",
        "                status += letter\n",
        "            else:\n",
        "                status += \"*\"\n",
        "\n",
        "            if letter == user_guess:\n",
        "                match += 1\n",
        "        if match > 1 :\n",
        "            print ('you have guessed ', match, 'letter truly \"'+ user_guess +'\"'+'\\'s')\n",
        "        elif match == 1:\n",
        "            print ('you have guessed 1 letter truly', user_guess )\n",
        "        else:\n",
        "            print ('Entered input does not exist in the word ')\n",
        "        return status\n",
        "    \n",
        "    \n",
        "    \n",
        "    \n",
        "    def new_game(self):\n",
        "        correct_word = random.choice(self.words).upper()\n",
        "        word_letters = []\n",
        "        for i in correct_word:\n",
        "            word_letters.append(i)\n",
        "        #initializing the game\n",
        "        num_of_guess = 0\n",
        "        guesses_list = []\n",
        "        max_guess = 10\n",
        "        guessed = False\n",
        "        test = '*' * len(word_letters)\n",
        "        print ('welcome to the game of Hangman !!! the word is :', test , ' , and it has : ', len(word_letters),'letters. Game Begins Now: ' )\n",
        "        \n",
        "        while (guessed != True and max_guess > 0 ) :\n",
        "            print(\"You have \", max_guess,\"chances to find the right word.\" )\n",
        "            user_guess = input('please input your letter or word : ')\n",
        "            user_guess = user_guess.upper()\n",
        "            if  len(user_guess) == 1 or  len(user_guess) == len(word_letters):\n",
        "                num_of_guess += 1\n",
        "                max_guess -= 1\n",
        "                if user_guess in guesses_list:\n",
        "                    print ('you already guessed this',user_guess)\n",
        "                elif len(user_guess) == len(correct_word):\n",
        "                    guesses_list.append(user_guess)\n",
        "                    if user_guess == correct_word :\n",
        "                        guessed = True \n",
        "\n",
        "                    else:\n",
        "                        print ('sorry, its not correct')\n",
        "                elif len(user_guess) == 1: \n",
        "                    guesses_list.append(user_guess)\n",
        "                    result = self.check(correct_word,guesses_list,user_guess)\n",
        "                    if '*' not in result :\n",
        "                        guessed = True\n",
        "                        \n",
        "                    else:\n",
        "                        print (result)\n",
        "                        \n",
        "            else:\n",
        "                num_of_guess += 1\n",
        "                max_guess -= 1\n",
        "                print ('you should enter only 1 letter or a word with length', len(word_letters),'.please enter again.' )  \n",
        "        if guessed :\n",
        "            print('Congratulations!!! you have found the right word:', correct_word ,'in',num_of_guess,'chances')\n",
        "        else:\n",
        "            print(\"Sorry!! you have used up all your chances, correct word is :\",correct_word)\n",
        "            \n",
        "        "
      ],
      "execution_count": null,
      "outputs": []
    },
    {
      "cell_type": "code",
      "metadata": {
        "id": "m6mAYFLjjFZb"
      },
      "source": [
        "player1 = Hangman()"
      ],
      "execution_count": null,
      "outputs": []
    },
    {
      "cell_type": "code",
      "metadata": {
        "id": "Kyn825zwjFZd",
        "outputId": "373ede20-5c85-47ee-f2a4-1e93fc8efec6",
        "colab": {
          "base_uri": "https://localhost:8080/"
        }
      },
      "source": [
        "qwqwe\n",
        "weplayer1.new_game()"
      ],
      "execution_count": null,
      "outputs": [
        {
          "output_type": "stream",
          "name": "stdout",
          "text": [
            "welcome to the game of Hangman !!! the word is : *****  , and it has :  5 letters. Game Begins Now: \n",
            "You have  10 chances to find the right word.\n",
            "please input your letter or word : t\n",
            "Entered input does not exist in the word \n",
            "*****\n",
            "You have  9 chances to find the right word.\n",
            "please input your letter or word : r\n",
            "you have guessed 1 letter truly R\n",
            "**R**\n",
            "You have  8 chances to find the right word.\n",
            "please input your letter or word : e\n",
            "Entered input does not exist in the word \n",
            "**R**\n",
            "You have  7 chances to find the right word.\n",
            "please input your letter or word : w\n",
            "Entered input does not exist in the word \n",
            "**R**\n",
            "You have  6 chances to find the right word.\n",
            "please input your letter or word : w\n",
            "you already guessed this W\n",
            "You have  5 chances to find the right word.\n",
            "please input your letter or word : qwe\n",
            "you should enter only 1 letter or a word with length 5 .please enter again.\n",
            "You have  4 chances to find the right word.\n",
            "please input your letter or word : t\n",
            "you already guessed this T\n",
            "You have  3 chances to find the right word.\n",
            "please input your letter or word : 65\n",
            "you should enter only 1 letter or a word with length 5 .please enter again.\n",
            "You have  2 chances to find the right word.\n",
            "please input your letter or word : 2\n",
            "Entered input does not exist in the word \n",
            "**R**\n",
            "You have  1 chances to find the right word.\n",
            "please input your letter or word : 1qw\n",
            "you should enter only 1 letter or a word with length 5 .please enter again.\n",
            "Sorry!! you have used up all your chances, correct word is : BIRDS\n"
          ]
        }
      ]
    },
    {
      "cell_type": "code",
      "metadata": {
        "id": "DztK-eJqjFZg"
      },
      "source": [
        ""
      ],
      "execution_count": null,
      "outputs": []
    }
  ]
}