{
  "nbformat": 4,
  "nbformat_minor": 0,
  "metadata": {
    "colab": {
      "name": "Class 3 & 4 - Break - Continue - File Operations - Functions.ipynb",
      "provenance": [],
      "collapsed_sections": [
        "ItNfZfiVy1fb",
        "HhVlrsoA1Bo-",
        "iUzKqO9Z6dgY",
        "25OBAkQi6lgJ",
        "impeboFF8n6C",
        "Di50-6zf_FZE",
        "mZc_gwz0BRlP",
        "YKyfua_QB1Kf"
      ],
      "toc_visible": true
    },
    "kernelspec": {
      "name": "python3",
      "display_name": "Python 3"
    },
    "language_info": {
      "name": "python"
    }
  },
  "cells": [
    {
      "cell_type": "markdown",
      "source": [
        "## Nested For Loop"
      ],
      "metadata": {
        "id": "ItNfZfiVy1fb"
      }
    },
    {
      "cell_type": "code",
      "execution_count": null,
      "metadata": {
        "colab": {
          "base_uri": "https://localhost:8080/"
        },
        "id": "c5X4n__kyX88",
        "outputId": "e1b39baa-53cd-408c-8afb-e1f2f83ed43e"
      },
      "outputs": [
        {
          "output_type": "stream",
          "name": "stdout",
          "text": [
            "My value of x is :  10\n",
            "My Value of y is: 50 My value of X is: 10\n",
            "My Value of y is: 40 My value of X is: 10\n",
            "My Value of y is: 30 My value of X is: 10\n",
            "My Value of y is: 20 My value of X is: 10\n",
            "My Value of y is: 10 My value of X is: 10\n",
            "My value of x is :  20\n",
            "My Value of y is: 50 My value of X is: 20\n",
            "My Value of y is: 40 My value of X is: 20\n",
            "My Value of y is: 30 My value of X is: 20\n",
            "My Value of y is: 20 My value of X is: 20\n",
            "My Value of y is: 10 My value of X is: 20\n",
            "My value of x is :  30\n",
            "My Value of y is: 50 My value of X is: 30\n",
            "My Value of y is: 40 My value of X is: 30\n",
            "My Value of y is: 30 My value of X is: 30\n",
            "My Value of y is: 20 My value of X is: 30\n",
            "My Value of y is: 10 My value of X is: 30\n",
            "My value of x is :  40\n",
            "My Value of y is: 50 My value of X is: 40\n",
            "My Value of y is: 40 My value of X is: 40\n",
            "My Value of y is: 30 My value of X is: 40\n",
            "My Value of y is: 20 My value of X is: 40\n",
            "My Value of y is: 10 My value of X is: 40\n",
            "My value of x is :  50\n",
            "My Value of y is: 50 My value of X is: 50\n",
            "My Value of y is: 40 My value of X is: 50\n",
            "My Value of y is: 30 My value of X is: 50\n",
            "My Value of y is: 20 My value of X is: 50\n",
            "My Value of y is: 10 My value of X is: 50\n"
          ]
        }
      ],
      "source": [
        "py_list1 = [10,20,30,40,50]\n",
        "py_list2 = [50,40,30,20,10]\n",
        "for x in py_list1:\n",
        "    print(\"My value of x is : \",x)\n",
        "    for y in py_list2:\n",
        "        print(\"My Value of y is:\",y,\"My value of X is:\",x)"
      ]
    },
    {
      "cell_type": "markdown",
      "source": [
        "## break - continue - pass statement"
      ],
      "metadata": {
        "id": "HhVlrsoA1Bo-"
      }
    },
    {
      "cell_type": "code",
      "source": [
        "for i in range(1,11):\n",
        "  if i==5:\n",
        "    break\n",
        "  print(i)"
      ],
      "metadata": {
        "colab": {
          "base_uri": "https://localhost:8080/"
        },
        "id": "ufvlJgwS1CuO",
        "outputId": "48d9a0f3-d25b-41bb-fecc-42b0555012a3"
      },
      "execution_count": null,
      "outputs": [
        {
          "output_type": "stream",
          "name": "stdout",
          "text": [
            "1\n",
            "2\n",
            "3\n",
            "4\n"
          ]
        }
      ]
    },
    {
      "cell_type": "code",
      "source": [
        "for i in range(1,11):\n",
        "  if i==5:\n",
        "    continue\n",
        "  print(i)"
      ],
      "metadata": {
        "colab": {
          "base_uri": "https://localhost:8080/"
        },
        "id": "dXTRhVOZ1D69",
        "outputId": "6b27b0de-21d2-4092-d1a9-487e1d79e4eb"
      },
      "execution_count": null,
      "outputs": [
        {
          "output_type": "stream",
          "name": "stdout",
          "text": [
            "1\n",
            "2\n",
            "3\n",
            "4\n",
            "6\n",
            "7\n",
            "8\n",
            "9\n",
            "10\n"
          ]
        }
      ]
    },
    {
      "cell_type": "code",
      "source": [
        "for i in range(1,11):\n",
        "  if i==5:\n",
        "    pass\n",
        "  print(i)"
      ],
      "metadata": {
        "colab": {
          "base_uri": "https://localhost:8080/"
        },
        "id": "WFdX4oMd1zsb",
        "outputId": "021a4eaf-5eda-46c4-c79f-47ef3dd68f32"
      },
      "execution_count": null,
      "outputs": [
        {
          "output_type": "stream",
          "name": "stdout",
          "text": [
            "1\n",
            "2\n",
            "3\n",
            "4\n",
            "5\n",
            "6\n",
            "7\n",
            "8\n",
            "9\n",
            "10\n"
          ]
        }
      ]
    },
    {
      "cell_type": "code",
      "source": [
        "py_list1 = [10,20,30,40,50]\n",
        "py_list2 = [50,40,30,20,10]\n",
        "for x in py_list1:\n",
        "    print(\"My value of x is : \",x)\n",
        "    for y in py_list2:\n",
        "      if y == 30:\n",
        "        break\n",
        "      print(\"My Value of y is:\",y,\"My value of X is:\",x)"
      ],
      "metadata": {
        "colab": {
          "base_uri": "https://localhost:8080/"
        },
        "id": "Cd8eASct2D45",
        "outputId": "461cf499-809f-4ff1-e3f0-83cd181a3fb5"
      },
      "execution_count": null,
      "outputs": [
        {
          "output_type": "stream",
          "name": "stdout",
          "text": [
            "My value of x is :  10\n",
            "My Value of y is: 50 My value of X is: 10\n",
            "My Value of y is: 40 My value of X is: 10\n",
            "My value of x is :  20\n",
            "My Value of y is: 50 My value of X is: 20\n",
            "My Value of y is: 40 My value of X is: 20\n",
            "My value of x is :  30\n",
            "My Value of y is: 50 My value of X is: 30\n",
            "My Value of y is: 40 My value of X is: 30\n",
            "My value of x is :  40\n",
            "My Value of y is: 50 My value of X is: 40\n",
            "My Value of y is: 40 My value of X is: 40\n",
            "My value of x is :  50\n",
            "My Value of y is: 50 My value of X is: 50\n",
            "My Value of y is: 40 My value of X is: 50\n"
          ]
        }
      ]
    },
    {
      "cell_type": "code",
      "source": [
        "py_list1 = [10,20,30,40,50]\n",
        "py_list2 = [50,40,30,20,10]\n",
        "for x in py_list1:\n",
        "    print(\"My value of x is : \",x)\n",
        "    for y in py_list2:\n",
        "      if y == 30:\n",
        "        continue\n",
        "      print(\"My Value of y is:\",y,\"My value of X is:\",x)"
      ],
      "metadata": {
        "colab": {
          "base_uri": "https://localhost:8080/"
        },
        "id": "iqj4cw4z2NjI",
        "outputId": "40d9d262-fcec-46e4-c225-1f0c175be75e"
      },
      "execution_count": null,
      "outputs": [
        {
          "output_type": "stream",
          "name": "stdout",
          "text": [
            "My value of x is :  10\n",
            "My Value of y is: 50 My value of X is: 10\n",
            "My Value of y is: 40 My value of X is: 10\n",
            "My Value of y is: 20 My value of X is: 10\n",
            "My Value of y is: 10 My value of X is: 10\n",
            "My value of x is :  20\n",
            "My Value of y is: 50 My value of X is: 20\n",
            "My Value of y is: 40 My value of X is: 20\n",
            "My Value of y is: 20 My value of X is: 20\n",
            "My Value of y is: 10 My value of X is: 20\n",
            "My value of x is :  30\n",
            "My Value of y is: 50 My value of X is: 30\n",
            "My Value of y is: 40 My value of X is: 30\n",
            "My Value of y is: 20 My value of X is: 30\n",
            "My Value of y is: 10 My value of X is: 30\n",
            "My value of x is :  40\n",
            "My Value of y is: 50 My value of X is: 40\n",
            "My Value of y is: 40 My value of X is: 40\n",
            "My Value of y is: 20 My value of X is: 40\n",
            "My Value of y is: 10 My value of X is: 40\n",
            "My value of x is :  50\n",
            "My Value of y is: 50 My value of X is: 50\n",
            "My Value of y is: 40 My value of X is: 50\n",
            "My Value of y is: 20 My value of X is: 50\n",
            "My Value of y is: 10 My value of X is: 50\n"
          ]
        }
      ]
    },
    {
      "cell_type": "code",
      "source": [
        "# enumerate\n",
        "py_list2"
      ],
      "metadata": {
        "colab": {
          "base_uri": "https://localhost:8080/"
        },
        "id": "FIt2dTVj2YIX",
        "outputId": "3dd66be8-60ed-4e62-de5a-e9a9f817ed5b"
      },
      "execution_count": null,
      "outputs": [
        {
          "output_type": "execute_result",
          "data": {
            "text/plain": [
              "[50, 40, 30, 20, 10]"
            ]
          },
          "metadata": {},
          "execution_count": 8
        }
      ]
    },
    {
      "cell_type": "code",
      "source": [
        "enumerate(py_list2)"
      ],
      "metadata": {
        "colab": {
          "base_uri": "https://localhost:8080/"
        },
        "id": "IcZj4akt20Nd",
        "outputId": "e2bd1bf2-1d1c-4186-dccb-ba1c7a40f53d"
      },
      "execution_count": null,
      "outputs": [
        {
          "output_type": "execute_result",
          "data": {
            "text/plain": [
              "<enumerate at 0x7fb571aed730>"
            ]
          },
          "metadata": {},
          "execution_count": 9
        }
      ]
    },
    {
      "cell_type": "code",
      "source": [
        "for i,j in enumerate(py_list2):\n",
        "  print(f\"index is {i}, value is {j}\")"
      ],
      "metadata": {
        "colab": {
          "base_uri": "https://localhost:8080/"
        },
        "id": "RMtdRvLt29dS",
        "outputId": "4f07a89a-4ffe-4122-c3dd-c89c25a65040"
      },
      "execution_count": null,
      "outputs": [
        {
          "output_type": "stream",
          "name": "stdout",
          "text": [
            "index is 0, value is 50\n",
            "index is 1, value is 40\n",
            "index is 2, value is 30\n",
            "index is 3, value is 20\n",
            "index is 4, value is 10\n"
          ]
        }
      ]
    },
    {
      "cell_type": "code",
      "source": [
        "#increment by 2\n",
        "x = 50\n",
        "while (x<=100):\n",
        "    x += 2\n",
        "    if x == 70:\n",
        "      continue\n",
        "    print(x)"
      ],
      "metadata": {
        "colab": {
          "base_uri": "https://localhost:8080/"
        },
        "id": "CgP8mvRg3H2e",
        "outputId": "eefa3c2f-bfb1-4f7b-e285-97b5f97b13b4"
      },
      "execution_count": null,
      "outputs": [
        {
          "output_type": "stream",
          "name": "stdout",
          "text": [
            "52\n",
            "54\n",
            "56\n",
            "58\n",
            "60\n",
            "62\n",
            "64\n",
            "66\n",
            "68\n",
            "72\n",
            "74\n",
            "76\n",
            "78\n",
            "80\n",
            "82\n",
            "84\n",
            "86\n",
            "88\n",
            "90\n",
            "92\n",
            "94\n",
            "96\n",
            "98\n",
            "100\n",
            "102\n"
          ]
        }
      ]
    },
    {
      "cell_type": "code",
      "source": [
        "for enum in enumerate(py_list2):\n",
        "  print(f\"enumerate value: {enum}\")"
      ],
      "metadata": {
        "colab": {
          "base_uri": "https://localhost:8080/"
        },
        "id": "Gt9MM9ze3jKQ",
        "outputId": "d04c7dd6-849c-4c10-cff9-1ac54e3732c5"
      },
      "execution_count": null,
      "outputs": [
        {
          "output_type": "stream",
          "name": "stdout",
          "text": [
            "enumerate value: (0, 50)\n",
            "enumerate value: (1, 40)\n",
            "enumerate value: (2, 30)\n",
            "enumerate value: (3, 20)\n",
            "enumerate value: (4, 10)\n"
          ]
        }
      ]
    },
    {
      "cell_type": "code",
      "source": [
        "d = {}\n",
        "for i,j in enumerate(py_list2):\n",
        "  #print(f\"index is {i}, value is {j}\")\n",
        "  d[j] = i\n",
        "print(d)"
      ],
      "metadata": {
        "colab": {
          "base_uri": "https://localhost:8080/"
        },
        "id": "-6MT2aAC4gTe",
        "outputId": "750feab9-6bb7-4d6b-c3ef-0df2d7c29cb2"
      },
      "execution_count": null,
      "outputs": [
        {
          "output_type": "stream",
          "name": "stdout",
          "text": [
            "{50: 0, 40: 1, 30: 2, 20: 3, 10: 4}\n"
          ]
        }
      ]
    },
    {
      "cell_type": "code",
      "source": [
        "# zip \n",
        "py_list1,py_list2"
      ],
      "metadata": {
        "colab": {
          "base_uri": "https://localhost:8080/"
        },
        "id": "RJUolcMO4DLq",
        "outputId": "6af57124-72c3-4deb-8881-b2ab675f7905"
      },
      "execution_count": null,
      "outputs": [
        {
          "output_type": "execute_result",
          "data": {
            "text/plain": [
              "([10, 20, 30, 40, 50], [50, 40, 30, 20, 10])"
            ]
          },
          "metadata": {},
          "execution_count": 17
        }
      ]
    },
    {
      "cell_type": "code",
      "source": [
        "for i,j in zip(py_list1,py_list2):\n",
        "  print(f\"list 1 is {i}, list 2 is {j}\")"
      ],
      "metadata": {
        "colab": {
          "base_uri": "https://localhost:8080/"
        },
        "id": "z1NLcqVE54YI",
        "outputId": "428e99a1-8e54-442b-9bb6-a1472dbceb02"
      },
      "execution_count": null,
      "outputs": [
        {
          "output_type": "stream",
          "name": "stdout",
          "text": [
            "list 1 is 10, list 2 is 50\n",
            "list 1 is 20, list 2 is 40\n",
            "list 1 is 30, list 2 is 30\n",
            "list 1 is 40, list 2 is 20\n",
            "list 1 is 50, list 2 is 10\n"
          ]
        }
      ]
    },
    {
      "cell_type": "markdown",
      "source": [
        "## Files & Directories in Python"
      ],
      "metadata": {
        "id": "iUzKqO9Z6dgY"
      }
    },
    {
      "cell_type": "markdown",
      "source": [
        "A `file` is a sequence of bytes, stored in some `filesystem`, and can be accessed with a `filename`.\n",
        "\n",
        "A `directory` is a collection of files, and sometimes other directories as well.\n",
        "\n",
        "The term `folder` is a synonym for directory."
      ],
      "metadata": {
        "id": "j6sDsIt26i3I"
      }
    },
    {
      "cell_type": "markdown",
      "source": [
        "## Create or Open with `open()`\n",
        "\n",
        "We have to call the `open` function before we perform the following tasks:\n",
        "* Read an existing file\n",
        "* Write to a new file\n",
        "* Append to an existing file\n",
        "* Overwrite an existing file\n",
        "\n",
        "*fileobj = open(filename,mode)*\n",
        "\n",
        "- fileobj - file object returned by `open()`\n",
        "- filename - String name of the file\n",
        "- mode - string indicating the file's type and what we want to perform\n",
        "\n",
        "\n",
        "First Letter of *mode* indicates the operation :\n",
        "* **r** means read\n",
        "* **w** means write. If the file doesn't exist, it will be created. If already exists it will be over-written\n",
        "* **x** means write, but only if file doesn't exist\n",
        "* **a** means append (write after the end) if the file exists.\n",
        "\n",
        "Second letter of *mode* is file's type:\n",
        "- **t** (or nothing) means text\n",
        "- **b** means binary\n",
        "\n",
        "*close* the file once write is complete."
      ],
      "metadata": {
        "id": "25OBAkQi6lgJ"
      }
    },
    {
      "cell_type": "code",
      "source": [
        "fileobj = open(\"example.txt\",\"wt\")\n",
        "fileobj.close()"
      ],
      "metadata": {
        "id": "lBs4k6g36IZs"
      },
      "execution_count": null,
      "outputs": []
    },
    {
      "cell_type": "markdown",
      "source": [
        "### Write a Text file with `print()`"
      ],
      "metadata": {
        "id": "impeboFF8n6C"
      }
    },
    {
      "cell_type": "code",
      "source": [
        "f = open(\"example.txt\",\"wt\")\n",
        "print(\"Hey this is an example text for the file\", file=f)\n",
        "f.close()"
      ],
      "metadata": {
        "id": "qjMMLetb8oUa"
      },
      "execution_count": null,
      "outputs": []
    },
    {
      "cell_type": "code",
      "source": [
        "f = open(\"example2.txt\",\"wt\")\n",
        "print(\"Hey this is an example text for the file\", file=f)"
      ],
      "metadata": {
        "id": "9syHUHRs87F1"
      },
      "execution_count": null,
      "outputs": []
    },
    {
      "cell_type": "code",
      "source": [
        "f.close()"
      ],
      "metadata": {
        "id": "g1g9WfeJ97tD"
      },
      "execution_count": null,
      "outputs": []
    },
    {
      "cell_type": "code",
      "source": [
        "#Append \n",
        "fileobj = open(\"example.txt\",\"at\")\n",
        "print(\"This is new line I am adding\",file=fileobj)\n",
        "fileobj.close()"
      ],
      "metadata": {
        "id": "FRmbm2u699Ki"
      },
      "execution_count": null,
      "outputs": []
    },
    {
      "cell_type": "code",
      "source": [
        "#x - write\n",
        "fileobj = open(\"example.txt\",\"xt\")\n",
        "print(\"I am trying to add a text to existing file\",file=fileobj)\n",
        "fileobj.close()"
      ],
      "metadata": {
        "colab": {
          "base_uri": "https://localhost:8080/",
          "height": 219
        },
        "id": "kaDxnLlN-WHQ",
        "outputId": "45eac38d-c18c-4b07-f6dc-15a8f8ab451b"
      },
      "execution_count": null,
      "outputs": [
        {
          "output_type": "error",
          "ename": "FileExistsError",
          "evalue": "ignored",
          "traceback": [
            "\u001b[0;31m---------------------------------------------------------------------------\u001b[0m",
            "\u001b[0;31mFileExistsError\u001b[0m                           Traceback (most recent call last)",
            "\u001b[0;32m<ipython-input-26-5d78db3d79ac>\u001b[0m in \u001b[0;36m<module>\u001b[0;34m()\u001b[0m\n\u001b[1;32m      1\u001b[0m \u001b[0;31m#x - write\u001b[0m\u001b[0;34m\u001b[0m\u001b[0;34m\u001b[0m\u001b[0;34m\u001b[0m\u001b[0m\n\u001b[0;32m----> 2\u001b[0;31m \u001b[0mfileobj\u001b[0m \u001b[0;34m=\u001b[0m \u001b[0mopen\u001b[0m\u001b[0;34m(\u001b[0m\u001b[0;34m\"example.txt\"\u001b[0m\u001b[0;34m,\u001b[0m\u001b[0;34m\"xt\"\u001b[0m\u001b[0;34m)\u001b[0m\u001b[0;34m\u001b[0m\u001b[0;34m\u001b[0m\u001b[0m\n\u001b[0m\u001b[1;32m      3\u001b[0m \u001b[0mprint\u001b[0m\u001b[0;34m(\u001b[0m\u001b[0;34m\"I am trying to add a text to existing file\"\u001b[0m\u001b[0;34m,\u001b[0m\u001b[0mfile\u001b[0m\u001b[0;34m=\u001b[0m\u001b[0mfileobj\u001b[0m\u001b[0;34m)\u001b[0m\u001b[0;34m\u001b[0m\u001b[0;34m\u001b[0m\u001b[0m\n\u001b[1;32m      4\u001b[0m \u001b[0mfileobj\u001b[0m\u001b[0;34m.\u001b[0m\u001b[0mclose\u001b[0m\u001b[0;34m(\u001b[0m\u001b[0;34m)\u001b[0m\u001b[0;34m\u001b[0m\u001b[0;34m\u001b[0m\u001b[0m\n",
            "\u001b[0;31mFileExistsError\u001b[0m: [Errno 17] File exists: 'example.txt'"
          ]
        }
      ]
    },
    {
      "cell_type": "code",
      "source": [
        "rhymes= \"\"\"Jack and Jill went up the hill\n",
        "To fetch a pail of water.\n",
        "Jack fell down and broke his crown,\n",
        "And Jill came tumbling after.\n",
        "\"\"\""
      ],
      "metadata": {
        "id": "7gfSWBWb-vno"
      },
      "execution_count": null,
      "outputs": []
    },
    {
      "cell_type": "code",
      "source": [
        "len(rhymes)"
      ],
      "metadata": {
        "colab": {
          "base_uri": "https://localhost:8080/"
        },
        "id": "CtMm_hdr-v-S",
        "outputId": "93d35a7b-fb7f-4101-8d9e-8b8169dd5dcc"
      },
      "execution_count": null,
      "outputs": [
        {
          "output_type": "execute_result",
          "data": {
            "text/plain": [
              "123"
            ]
          },
          "metadata": {},
          "execution_count": 28
        }
      ]
    },
    {
      "cell_type": "code",
      "source": [
        "#Over write\n",
        "fileobj = open(\"rhymes.txt\",\"wt\")\n",
        "fileobj.write(rhymes)\n",
        "fileobj.close()"
      ],
      "metadata": {
        "id": "Dyfg90Ub-xkd"
      },
      "execution_count": null,
      "outputs": []
    },
    {
      "cell_type": "markdown",
      "source": [
        "## Read a Text file with `read() , readline() , or readlines()`"
      ],
      "metadata": {
        "id": "Di50-6zf_FZE"
      }
    },
    {
      "cell_type": "code",
      "source": [
        "fileobj = open(\"rhymes.txt\",\"rt\")\n",
        "poem = fileobj.read()\n",
        "fileobj.close()"
      ],
      "metadata": {
        "id": "bdAZygtF-9Qx"
      },
      "execution_count": null,
      "outputs": []
    },
    {
      "cell_type": "code",
      "source": [
        "print(poem)"
      ],
      "metadata": {
        "colab": {
          "base_uri": "https://localhost:8080/"
        },
        "id": "AxdAgvyC_Oyw",
        "outputId": "48f7bd26-65c1-4d66-e739-a9139b664a5b"
      },
      "execution_count": null,
      "outputs": [
        {
          "output_type": "stream",
          "name": "stdout",
          "text": [
            "Jack and Jill went up the hill\n",
            "To fetch a pail of water.\n",
            "Jack fell down and broke his crown,\n",
            "And Jill came tumbling after.\n",
            "\n"
          ]
        }
      ]
    },
    {
      "cell_type": "code",
      "source": [
        "fileobj = open(\"rhymes.txt\",\"rt\")\n",
        "fileobj.readline()"
      ],
      "metadata": {
        "colab": {
          "base_uri": "https://localhost:8080/",
          "height": 35
        },
        "id": "_FVKn9Wv_PmG",
        "outputId": "9d00c90b-68a1-4aa6-97f1-be830c0f0d3a"
      },
      "execution_count": null,
      "outputs": [
        {
          "output_type": "execute_result",
          "data": {
            "application/vnd.google.colaboratory.intrinsic+json": {
              "type": "string"
            },
            "text/plain": [
              "'Jack and Jill went up the hill\\n'"
            ]
          },
          "metadata": {},
          "execution_count": 34
        }
      ]
    },
    {
      "cell_type": "code",
      "source": [
        "fileobj.readline()"
      ],
      "metadata": {
        "colab": {
          "base_uri": "https://localhost:8080/",
          "height": 35
        },
        "id": "-wVkZsMm_Wht",
        "outputId": "3ab92647-fcd6-4e94-8fb7-c8e415546fa8"
      },
      "execution_count": null,
      "outputs": [
        {
          "output_type": "execute_result",
          "data": {
            "application/vnd.google.colaboratory.intrinsic+json": {
              "type": "string"
            },
            "text/plain": [
              "'To fetch a pail of water.\\n'"
            ]
          },
          "metadata": {},
          "execution_count": 35
        }
      ]
    },
    {
      "cell_type": "code",
      "source": [
        "fileobj.readline()"
      ],
      "metadata": {
        "colab": {
          "base_uri": "https://localhost:8080/",
          "height": 35
        },
        "id": "iyhAUzz8_YCM",
        "outputId": "ccb52c8b-212b-43ed-a68a-3c956fdacfce"
      },
      "execution_count": null,
      "outputs": [
        {
          "output_type": "execute_result",
          "data": {
            "application/vnd.google.colaboratory.intrinsic+json": {
              "type": "string"
            },
            "text/plain": [
              "'Jack fell down and broke his crown,\\n'"
            ]
          },
          "metadata": {},
          "execution_count": 36
        }
      ]
    },
    {
      "cell_type": "code",
      "source": [
        "fileobj.readline()"
      ],
      "metadata": {
        "colab": {
          "base_uri": "https://localhost:8080/",
          "height": 35
        },
        "id": "6qjCXSnj_YSI",
        "outputId": "5144aed1-565e-42d6-dd0a-db07aacbafdb"
      },
      "execution_count": null,
      "outputs": [
        {
          "output_type": "execute_result",
          "data": {
            "application/vnd.google.colaboratory.intrinsic+json": {
              "type": "string"
            },
            "text/plain": [
              "'And Jill came tumbling after.\\n'"
            ]
          },
          "metadata": {},
          "execution_count": 37
        }
      ]
    },
    {
      "cell_type": "code",
      "source": [
        "fileobj.readline()"
      ],
      "metadata": {
        "colab": {
          "base_uri": "https://localhost:8080/",
          "height": 35
        },
        "id": "9QVnvQV-_aLg",
        "outputId": "8c3fa49b-e85e-4fa7-9ac0-e81347059bb6"
      },
      "execution_count": null,
      "outputs": [
        {
          "output_type": "execute_result",
          "data": {
            "application/vnd.google.colaboratory.intrinsic+json": {
              "type": "string"
            },
            "text/plain": [
              "''"
            ]
          },
          "metadata": {},
          "execution_count": 38
        }
      ]
    },
    {
      "cell_type": "code",
      "source": [
        "fileobj.close()"
      ],
      "metadata": {
        "id": "8LNfO3CG_a14"
      },
      "execution_count": null,
      "outputs": []
    },
    {
      "cell_type": "code",
      "source": [
        "# readlines()\n",
        "fileobj = open(\"rhymes.txt\",\"rt\")\n",
        "fileobj.readlines() # Returns as a python list"
      ],
      "metadata": {
        "colab": {
          "base_uri": "https://localhost:8080/"
        },
        "id": "zzz0H23l_cLM",
        "outputId": "0c045b86-55d8-430e-d140-a1284b7c473b"
      },
      "execution_count": null,
      "outputs": [
        {
          "output_type": "execute_result",
          "data": {
            "text/plain": [
              "['Jack and Jill went up the hill\\n',\n",
              " 'To fetch a pail of water.\\n',\n",
              " 'Jack fell down and broke his crown,\\n',\n",
              " 'And Jill came tumbling after.\\n']"
            ]
          },
          "metadata": {},
          "execution_count": 42
        }
      ]
    },
    {
      "cell_type": "markdown",
      "source": [
        "## Write a Binary file with `write()`"
      ],
      "metadata": {
        "id": "mZc_gwz0BRlP"
      }
    },
    {
      "cell_type": "code",
      "source": [
        "#generate binary data\n",
        "bdata = bytes(range(0,256))\n",
        "len(bdata)"
      ],
      "metadata": {
        "colab": {
          "base_uri": "https://localhost:8080/"
        },
        "id": "_a4Isccl_lFN",
        "outputId": "619e679c-3c96-4e76-be8f-f3c31a44a6a6"
      },
      "execution_count": null,
      "outputs": [
        {
          "output_type": "execute_result",
          "data": {
            "text/plain": [
              "256"
            ]
          },
          "metadata": {},
          "execution_count": 43
        }
      ]
    },
    {
      "cell_type": "code",
      "source": [
        "fileobj = open(\"binfile\",\"wb\") # write binary\n",
        "fileobj.write(bdata)\n",
        "fileobj.close()"
      ],
      "metadata": {
        "id": "MFixAkknBTE2"
      },
      "execution_count": null,
      "outputs": []
    },
    {
      "cell_type": "code",
      "source": [
        "# Read\n",
        "fileobj = open(\"binfile\",\"rb\") # write binary\n",
        "print(fileobj.read())"
      ],
      "metadata": {
        "colab": {
          "base_uri": "https://localhost:8080/"
        },
        "id": "zS3lL7oYBbc7",
        "outputId": "00cec4bc-5838-48be-99c6-67428c77c2e6"
      },
      "execution_count": null,
      "outputs": [
        {
          "output_type": "stream",
          "name": "stdout",
          "text": [
            "b'\\x00\\x01\\x02\\x03\\x04\\x05\\x06\\x07\\x08\\t\\n\\x0b\\x0c\\r\\x0e\\x0f\\x10\\x11\\x12\\x13\\x14\\x15\\x16\\x17\\x18\\x19\\x1a\\x1b\\x1c\\x1d\\x1e\\x1f !\"#$%&\\'()*+,-./0123456789:;<=>?@ABCDEFGHIJKLMNOPQRSTUVWXYZ[\\\\]^_`abcdefghijklmnopqrstuvwxyz{|}~\\x7f\\x80\\x81\\x82\\x83\\x84\\x85\\x86\\x87\\x88\\x89\\x8a\\x8b\\x8c\\x8d\\x8e\\x8f\\x90\\x91\\x92\\x93\\x94\\x95\\x96\\x97\\x98\\x99\\x9a\\x9b\\x9c\\x9d\\x9e\\x9f\\xa0\\xa1\\xa2\\xa3\\xa4\\xa5\\xa6\\xa7\\xa8\\xa9\\xaa\\xab\\xac\\xad\\xae\\xaf\\xb0\\xb1\\xb2\\xb3\\xb4\\xb5\\xb6\\xb7\\xb8\\xb9\\xba\\xbb\\xbc\\xbd\\xbe\\xbf\\xc0\\xc1\\xc2\\xc3\\xc4\\xc5\\xc6\\xc7\\xc8\\xc9\\xca\\xcb\\xcc\\xcd\\xce\\xcf\\xd0\\xd1\\xd2\\xd3\\xd4\\xd5\\xd6\\xd7\\xd8\\xd9\\xda\\xdb\\xdc\\xdd\\xde\\xdf\\xe0\\xe1\\xe2\\xe3\\xe4\\xe5\\xe6\\xe7\\xe8\\xe9\\xea\\xeb\\xec\\xed\\xee\\xef\\xf0\\xf1\\xf2\\xf3\\xf4\\xf5\\xf6\\xf7\\xf8\\xf9\\xfa\\xfb\\xfc\\xfd\\xfe\\xff'\n"
          ]
        }
      ]
    },
    {
      "cell_type": "code",
      "source": [
        "fileobj.close()"
      ],
      "metadata": {
        "id": "_2xwwoUxBeWi"
      },
      "execution_count": null,
      "outputs": []
    },
    {
      "cell_type": "code",
      "source": [
        "# Alernate way\n",
        "with open(\"rhymes.txt\",\"wt\") as fileobj:\n",
        "  fileobj.write(rhymes)"
      ],
      "metadata": {
        "id": "0M9CAj-rBf9r"
      },
      "execution_count": null,
      "outputs": []
    },
    {
      "cell_type": "markdown",
      "source": [
        "## Directories"
      ],
      "metadata": {
        "id": "YKyfua_QB1Kf"
      }
    },
    {
      "cell_type": "code",
      "source": [
        "import os"
      ],
      "metadata": {
        "id": "_XkqEJiAB2iw"
      },
      "execution_count": null,
      "outputs": []
    },
    {
      "cell_type": "code",
      "source": [
        "os.path.exists(\"rhymes.txt\")"
      ],
      "metadata": {
        "colab": {
          "base_uri": "https://localhost:8080/"
        },
        "id": "Zi_Fk0gOB6Y4",
        "outputId": "b3dde277-78a0-4dd2-f5f6-7c319783147b"
      },
      "execution_count": null,
      "outputs": [
        {
          "output_type": "execute_result",
          "data": {
            "text/plain": [
              "True"
            ]
          },
          "metadata": {},
          "execution_count": 49
        }
      ]
    },
    {
      "cell_type": "code",
      "source": [
        "os.mkdir(\"MyFolder\")"
      ],
      "metadata": {
        "id": "IjHK0OyBB-To"
      },
      "execution_count": null,
      "outputs": []
    },
    {
      "cell_type": "code",
      "source": [
        "os.rmdir(\"MyFolder\")"
      ],
      "metadata": {
        "id": "KmiFsS43CIu8"
      },
      "execution_count": null,
      "outputs": []
    },
    {
      "cell_type": "code",
      "source": [
        "# os.makedirs - create subdirectories\n",
        "os.makedirs(\"MyFolder/SubFolder\")"
      ],
      "metadata": {
        "id": "5X4Oaj2zCQI7"
      },
      "execution_count": null,
      "outputs": []
    },
    {
      "cell_type": "code",
      "source": [
        "import shutil"
      ],
      "metadata": {
        "id": "gtYQWc9DCZHb"
      },
      "execution_count": null,
      "outputs": []
    },
    {
      "cell_type": "code",
      "source": [
        "shutil.copy(\"rhymes.txt\",\"MyFolder/SubFolder/rhymes.txt\")"
      ],
      "metadata": {
        "colab": {
          "base_uri": "https://localhost:8080/",
          "height": 35
        },
        "id": "RuFElLhjCoyT",
        "outputId": "746ef844-b8ab-460a-f715-3b7dbe7165a8"
      },
      "execution_count": null,
      "outputs": [
        {
          "output_type": "execute_result",
          "data": {
            "application/vnd.google.colaboratory.intrinsic+json": {
              "type": "string"
            },
            "text/plain": [
              "'MyFolder/SubFolder/rhymes.txt'"
            ]
          },
          "metadata": {},
          "execution_count": 56
        }
      ]
    },
    {
      "cell_type": "code",
      "source": [
        "# readlines()\n",
        "fileobj = open(\"MyFolder/SubFolder/rhymes.txt\",\"rt\")\n",
        "fileobj.readlines() # Returns as a python list"
      ],
      "metadata": {
        "colab": {
          "base_uri": "https://localhost:8080/"
        },
        "id": "OqbA8CroC3E9",
        "outputId": "8be7e389-b352-4624-fef8-e6afffd93318"
      },
      "execution_count": null,
      "outputs": [
        {
          "output_type": "execute_result",
          "data": {
            "text/plain": [
              "['Jack and Jill went up the hill\\n',\n",
              " 'To fetch a pail of water.\\n',\n",
              " 'Jack fell down and broke his crown,\\n',\n",
              " 'And Jill came tumbling after.\\n']"
            ]
          },
          "metadata": {},
          "execution_count": 57
        }
      ]
    },
    {
      "cell_type": "code",
      "source": [
        "shutil.move(\"rhymes.txt\",\"MyFolder/SubFolder/rhymes2.txt\")"
      ],
      "metadata": {
        "colab": {
          "base_uri": "https://localhost:8080/",
          "height": 35
        },
        "id": "ETmXe2zCDGMO",
        "outputId": "433ef25c-0eb3-4115-9787-b6a2df849746"
      },
      "execution_count": null,
      "outputs": [
        {
          "output_type": "execute_result",
          "data": {
            "application/vnd.google.colaboratory.intrinsic+json": {
              "type": "string"
            },
            "text/plain": [
              "'MyFolder/SubFolder/rhymes2.txt'"
            ]
          },
          "metadata": {},
          "execution_count": 58
        }
      ]
    },
    {
      "cell_type": "markdown",
      "source": [
        "## Functions in Python\n",
        "\n",
        "Group of statements that performs a specific task."
      ],
      "metadata": {
        "id": "nZc2xveoF0zh"
      }
    },
    {
      "cell_type": "markdown",
      "source": [
        "![image.png](data:image/png;base64,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)"
      ],
      "metadata": {
        "id": "Csz1AFrdF7IG"
      }
    },
    {
      "cell_type": "code",
      "source": [
        "def example():\n",
        "  print(\"Good morning\")\n",
        "  print(\"Good evening\")"
      ],
      "metadata": {
        "id": "_Pfci3HMDlx8"
      },
      "execution_count": null,
      "outputs": []
    },
    {
      "cell_type": "code",
      "source": [
        "example() #() --> Function"
      ],
      "metadata": {
        "colab": {
          "base_uri": "https://localhost:8080/"
        },
        "id": "5oOy6vw_JCSr",
        "outputId": "c71e055c-f366-4416-e47f-1535561eded4"
      },
      "execution_count": null,
      "outputs": [
        {
          "output_type": "stream",
          "name": "stdout",
          "text": [
            "Good morning\n",
            "Good evening\n"
          ]
        }
      ]
    },
    {
      "cell_type": "code",
      "source": [
        "example()"
      ],
      "metadata": {
        "colab": {
          "base_uri": "https://localhost:8080/"
        },
        "id": "Ba_65uaAJSxa",
        "outputId": "387863fd-db61-43d1-edce-8ce39a7a145c"
      },
      "execution_count": null,
      "outputs": [
        {
          "output_type": "stream",
          "name": "stdout",
          "text": [
            "Good morning\n",
            "Good evening\n"
          ]
        }
      ]
    },
    {
      "cell_type": "code",
      "source": [
        "def example(name):\n",
        "  print(\"Good morning\",name)"
      ],
      "metadata": {
        "id": "qWA9A2aBJYZf"
      },
      "execution_count": null,
      "outputs": []
    },
    {
      "cell_type": "code",
      "source": [
        "#calling the function\n",
        "example(\"Jack\")"
      ],
      "metadata": {
        "colab": {
          "base_uri": "https://localhost:8080/"
        },
        "id": "1RNPv2gtJkLI",
        "outputId": "922cfaa4-7752-4d0b-b281-4c41128bf301"
      },
      "execution_count": null,
      "outputs": [
        {
          "output_type": "stream",
          "name": "stdout",
          "text": [
            "Good morning Jack\n"
          ]
        }
      ]
    },
    {
      "cell_type": "code",
      "source": [
        "example(\"Jill\")"
      ],
      "metadata": {
        "colab": {
          "base_uri": "https://localhost:8080/"
        },
        "id": "10FwotfZJoPl",
        "outputId": "1cd1f322-7dcb-4cd8-bc9c-2eff8e2bc144"
      },
      "execution_count": null,
      "outputs": [
        {
          "output_type": "stream",
          "name": "stdout",
          "text": [
            "Good morning Jill\n"
          ]
        }
      ]
    },
    {
      "cell_type": "code",
      "source": [
        "def Example2(name):\n",
        "    \"\"\"This is a documentation. This function\n",
        "    takes name as input, and prints Good Morning\"\"\"\n",
        "    print(\"Good Morning\",name)"
      ],
      "metadata": {
        "id": "CvLrGxWEJ0AP"
      },
      "execution_count": null,
      "outputs": []
    },
    {
      "cell_type": "code",
      "source": [
        "Example2(\"Name\")"
      ],
      "metadata": {
        "colab": {
          "base_uri": "https://localhost:8080/"
        },
        "id": "XcOJOBSWJ_w7",
        "outputId": "ab061692-9695-4ffc-b06f-b77f9065ad6e"
      },
      "execution_count": null,
      "outputs": [
        {
          "output_type": "stream",
          "name": "stdout",
          "text": [
            "Good Morning Name\n"
          ]
        }
      ]
    },
    {
      "cell_type": "code",
      "source": [
        "# Create a Function that accepts two numbers and print sum\n",
        "def add(a1,a2):\n",
        "  print(f\"a1 is {a1}\")\n",
        "  print(f\"a2 is {a2}\")\n",
        "  s = a1+a2\n",
        "  print(f\"Sum is {s}\")"
      ],
      "metadata": {
        "id": "6K-KNb3oKQ98"
      },
      "execution_count": null,
      "outputs": []
    },
    {
      "cell_type": "code",
      "source": [
        "add(10,25)"
      ],
      "metadata": {
        "colab": {
          "base_uri": "https://localhost:8080/"
        },
        "id": "4DN2h3SRKjxp",
        "outputId": "0ccce5b4-a1bd-4557-ace9-f2ee43d30fed"
      },
      "execution_count": null,
      "outputs": [
        {
          "output_type": "stream",
          "name": "stdout",
          "text": [
            "a1 is 10\n",
            "a2 is 25\n",
            "Sum is 35\n"
          ]
        }
      ]
    },
    {
      "cell_type": "markdown",
      "source": [
        "## Activity:\n",
        "Build a Calculator which can get 2 inputs from user, and calculator has the Following ability.\n",
        "- Addition\n",
        "- Subtraction\n",
        "- Multiplication\n",
        "- Division\n",
        "\n",
        "Program flow is like this:\n",
        "- Get the Input from user (2 numbers)\n",
        "- Get the Operation that user wants to perform\n",
        "- Perform the Mathematical Operation and print the result"
      ],
      "metadata": {
        "id": "uv6CAP9iKyLO"
      }
    },
    {
      "cell_type": "code",
      "source": [
        "def add(num1,num2):\n",
        "  return num1+num2\n",
        "\n",
        "def subtract(num1,num2):\n",
        "  return num1-num2\n",
        "\n",
        "def multiply(num1,num2):\n",
        "  return num1*num2\n",
        "\n",
        "def divide(num1,num2):\n",
        "  return num1/num2\n",
        "\n",
        "num1 = int(input(\"Please Enter 1st Number:\"))\n",
        "num2 = int(input(\"Please Enter 2nd Number:\"))\n",
        "print(\"Enter the Operation you wish to perform:\\n1.Addition\\n2.Subtraction\\n3.Multiplication\\n4.Division \")\n",
        "option = int(input(\"Your Option:\"))\n",
        "\n",
        "if option == 1:\n",
        "  print(f\"Result: {add(num1,num2)}\")\n",
        "\n",
        "elif option == 2:\n",
        "  print(f\"Result: {subtract(num1,num2)}\")\n",
        "\n",
        "elif option == 3:\n",
        "  print(f\"Result: {multiply(num1,num2)}\")\n",
        "\n",
        "elif option == 4:\n",
        "  print(f\"Result: {divide(num1,num2)}\")\n",
        "else:\n",
        "  print(\"Invalid Option\")"
      ],
      "metadata": {
        "id": "0T9VnBwzKlur",
        "colab": {
          "base_uri": "https://localhost:8080/"
        },
        "outputId": "f0ac6042-916c-4e20-fab8-aeb8abd45de0"
      },
      "execution_count": null,
      "outputs": [
        {
          "output_type": "stream",
          "name": "stdout",
          "text": [
            "Please Enter 1st Number:10\n",
            "Please Enter 2nd Number:20\n",
            "Enter the Operation you wish to perform:\n",
            "1.Addition\n",
            "2.Subtraction\n",
            "3.Multiplication\n",
            "4.Division \n",
            "Your Option:2\n",
            "Result: -10\n"
          ]
        }
      ]
    },
    {
      "cell_type": "markdown",
      "source": [
        "## 23- December - 2021"
      ],
      "metadata": {
        "id": "1r0y2UcI_nPb"
      }
    },
    {
      "cell_type": "code",
      "source": [
        "# Create a Function that accepts two numbers and print sum\n",
        "def add(a1,a2):\n",
        "  print(f\"a1 is {a1}\")\n",
        "  print(f\"a2 is {a2}\")\n",
        "  s = a1+a2\n",
        "  print(f\"Sum is {s}\")"
      ],
      "metadata": {
        "id": "a32WYi_0_jNH"
      },
      "execution_count": null,
      "outputs": []
    },
    {
      "cell_type": "code",
      "source": [
        "out = add(10,20)"
      ],
      "metadata": {
        "colab": {
          "base_uri": "https://localhost:8080/"
        },
        "id": "qDHbyIEj_mDz",
        "outputId": "997b34ca-3e3d-4046-f5e5-888dfd975a69"
      },
      "execution_count": null,
      "outputs": [
        {
          "output_type": "stream",
          "name": "stdout",
          "text": [
            "a1 is 10\n",
            "a2 is 20\n",
            "Sum is 30\n"
          ]
        }
      ]
    },
    {
      "cell_type": "code",
      "source": [
        "print(out)"
      ],
      "metadata": {
        "colab": {
          "base_uri": "https://localhost:8080/"
        },
        "id": "3yyv6tQW_2wE",
        "outputId": "e6591e5d-d46a-4dcd-dd0a-f7d8d9ea7e08"
      },
      "execution_count": null,
      "outputs": [
        {
          "output_type": "stream",
          "name": "stdout",
          "text": [
            "None\n"
          ]
        }
      ]
    },
    {
      "cell_type": "code",
      "source": [
        "# Create a Function that accepts two numbers and print sum\n",
        "def add(a1,a2):\n",
        "  s = a1+a2\n",
        "  print(f\"Sum is {s}\")\n",
        "  return s"
      ],
      "metadata": {
        "id": "qIXm6Og4_36w"
      },
      "execution_count": null,
      "outputs": []
    },
    {
      "cell_type": "code",
      "source": [
        "out = add(10,20)"
      ],
      "metadata": {
        "colab": {
          "base_uri": "https://localhost:8080/"
        },
        "id": "pj5G3IGUAiZH",
        "outputId": "47725e5d-fdab-46dc-fe95-fe2346bfa1d6"
      },
      "execution_count": null,
      "outputs": [
        {
          "output_type": "stream",
          "name": "stdout",
          "text": [
            "Sum is 30\n"
          ]
        }
      ]
    },
    {
      "cell_type": "code",
      "source": [
        "print(out)"
      ],
      "metadata": {
        "colab": {
          "base_uri": "https://localhost:8080/"
        },
        "id": "xnvaTnciAkYY",
        "outputId": "e9ae668f-964b-45e7-9b33-06404a5408b3"
      },
      "execution_count": null,
      "outputs": [
        {
          "output_type": "stream",
          "name": "stdout",
          "text": [
            "30\n"
          ]
        }
      ]
    },
    {
      "cell_type": "markdown",
      "source": [
        "## Default Parameter Values"
      ],
      "metadata": {
        "id": "t4KPkYWrCbx0"
      }
    },
    {
      "cell_type": "code",
      "source": [
        "# Create a Function that accepts two numbers and print sum\n",
        "def add(a1,a2=10):\n",
        "  s = a1+a2\n",
        "  print(f\"Sum is {s}\")\n",
        "  return s"
      ],
      "metadata": {
        "id": "avMNbj-OAnAv"
      },
      "execution_count": null,
      "outputs": []
    },
    {
      "cell_type": "code",
      "source": [
        "add(10)"
      ],
      "metadata": {
        "colab": {
          "base_uri": "https://localhost:8080/"
        },
        "id": "zPIfjskmCkE9",
        "outputId": "64e3e9d6-c249-46ca-d6b4-1687d4563e1e"
      },
      "execution_count": null,
      "outputs": [
        {
          "output_type": "stream",
          "name": "stdout",
          "text": [
            "Sum is 20\n"
          ]
        },
        {
          "output_type": "execute_result",
          "data": {
            "text/plain": [
              "20"
            ]
          },
          "metadata": {},
          "execution_count": 10
        }
      ]
    },
    {
      "cell_type": "code",
      "source": [
        "add(a2=10,a1=15)"
      ],
      "metadata": {
        "colab": {
          "base_uri": "https://localhost:8080/"
        },
        "id": "jnD8yP2OC9BB",
        "outputId": "0dc79ec4-adef-45cf-f40e-cb9971a6a322"
      },
      "execution_count": null,
      "outputs": [
        {
          "output_type": "stream",
          "name": "stdout",
          "text": [
            "Sum is 25\n"
          ]
        },
        {
          "output_type": "execute_result",
          "data": {
            "text/plain": [
              "25"
            ]
          },
          "metadata": {},
          "execution_count": 11
        }
      ]
    },
    {
      "cell_type": "code",
      "source": [
        "add(10,20,30)"
      ],
      "metadata": {
        "colab": {
          "base_uri": "https://localhost:8080/",
          "height": 167
        },
        "id": "dM3qbbnbDOu9",
        "outputId": "df5d1801-8d14-4348-fe57-988e04accb2f"
      },
      "execution_count": null,
      "outputs": [
        {
          "output_type": "error",
          "ename": "TypeError",
          "evalue": "ignored",
          "traceback": [
            "\u001b[0;31m---------------------------------------------------------------------------\u001b[0m",
            "\u001b[0;31mTypeError\u001b[0m                                 Traceback (most recent call last)",
            "\u001b[0;32m<ipython-input-12-e280bbfed221>\u001b[0m in \u001b[0;36m<module>\u001b[0;34m()\u001b[0m\n\u001b[0;32m----> 1\u001b[0;31m \u001b[0madd\u001b[0m\u001b[0;34m(\u001b[0m\u001b[0;36m10\u001b[0m\u001b[0;34m,\u001b[0m\u001b[0;36m20\u001b[0m\u001b[0;34m,\u001b[0m\u001b[0;36m30\u001b[0m\u001b[0;34m)\u001b[0m\u001b[0;34m\u001b[0m\u001b[0;34m\u001b[0m\u001b[0m\n\u001b[0m",
            "\u001b[0;31mTypeError\u001b[0m: add() takes from 1 to 2 positional arguments but 3 were given"
          ]
        }
      ]
    },
    {
      "cell_type": "code",
      "source": [
        "# Python program to illustrate \n",
        "# *args for variable number of arguments\n",
        "def myFun(*args):\n",
        "    print(args)\n",
        "    for arg in args:\n",
        "        print (arg)\n",
        "   \n",
        "myFun('Hello', 'Welcome', 'to', 'Deep Learning')"
      ],
      "metadata": {
        "colab": {
          "base_uri": "https://localhost:8080/"
        },
        "id": "ksyL1xdrDgGr",
        "outputId": "2fbbf498-c997-4349-fd42-9990f8f05fd4"
      },
      "execution_count": null,
      "outputs": [
        {
          "output_type": "stream",
          "name": "stdout",
          "text": [
            "('Hello', 'Welcome', 'to', 'Deep Learning')\n",
            "Hello\n",
            "Welcome\n",
            "to\n",
            "Deep Learning\n"
          ]
        }
      ]
    },
    {
      "cell_type": "code",
      "source": [
        "# def add(a1,a2):\n",
        "#   s = a1+a2\n",
        "#   return s"
      ],
      "metadata": {
        "id": "JfCnsW8gGWbC"
      },
      "execution_count": null,
      "outputs": []
    },
    {
      "cell_type": "code",
      "source": [
        "# Python program to illustrate \n",
        "# *args for variable number of arguments\n",
        "def myFun(*vars):\n",
        "    print(vars)\n",
        "    for var in vars:\n",
        "        print (var)\n",
        "\n",
        "myFun('Hello', 'Welcome', 'to', 'Deep Learning')"
      ],
      "metadata": {
        "colab": {
          "base_uri": "https://localhost:8080/"
        },
        "id": "QvU4FpHgFTSs",
        "outputId": "de669209-7113-4f50-81b9-7e2017fd73f8"
      },
      "execution_count": null,
      "outputs": [
        {
          "output_type": "stream",
          "name": "stdout",
          "text": [
            "('Hello', 'Welcome', 'to', 'Deep Learning')\n",
            "Hello\n",
            "Welcome\n",
            "to\n",
            "Deep Learning\n"
          ]
        }
      ]
    },
    {
      "cell_type": "code",
      "source": [
        "#**kwargs\n",
        "# KEYWORD = ARGUMENT,\n",
        "def myFun(**kwargs):\n",
        "  print(kwargs)\n",
        "  # for key, value in kwargs.items():\n",
        "  #     print (f\"Key : {key} --- value: {value}\")\n",
        " \n",
        "# Driver code\n",
        "myFun(first ='Deep', mid ='learning', last='DL')  "
      ],
      "metadata": {
        "colab": {
          "base_uri": "https://localhost:8080/"
        },
        "id": "hOYrSuCYEGKa",
        "outputId": "a29f899d-d460-49ba-eecf-380a4fda57b7"
      },
      "execution_count": null,
      "outputs": [
        {
          "output_type": "stream",
          "name": "stdout",
          "text": [
            "{'first': 'Deep', 'mid': 'learning', 'last': 'DL'}\n"
          ]
        }
      ]
    },
    {
      "cell_type": "code",
      "source": [
        "# Python program to illustrate \n",
        "# *args for variable number of arguments\n",
        "def myFun(a,*vars):\n",
        "    print(f\"a is {a}\")\n",
        "    print(f\"vars is {vars}\")\n",
        "    for var in vars:\n",
        "        print (var)\n",
        "\n",
        "myFun('Hello', 'Welcome', 'to', 'Deep Learning')"
      ],
      "metadata": {
        "colab": {
          "base_uri": "https://localhost:8080/"
        },
        "id": "Toh_idFDGo7f",
        "outputId": "6810a9e7-4adf-407a-94dd-67fb1963a8e9"
      },
      "execution_count": null,
      "outputs": [
        {
          "output_type": "stream",
          "name": "stdout",
          "text": [
            "a is Hello\n",
            "vars is ('Welcome', 'to', 'Deep Learning')\n",
            "Welcome\n",
            "to\n",
            "Deep Learning\n"
          ]
        }
      ]
    },
    {
      "cell_type": "code",
      "source": [
        "#**kwargs\n",
        "# KEYWORD = ARGUMENT,\n",
        "def myFun(a=10,**kwargs):\n",
        "  print(f\"a is {a}\")\n",
        "  print(f\"kwargs is {kwargs}\")\n",
        "  # for key, value in kwargs.items():\n",
        "  #     print (f\"Key : {key} --- value: {value}\")\n",
        "\n",
        "# Driver code\n",
        "myFun(first ='Deep', mid ='learning', last='DL', a = 50,a1=500,a2 = 1000)  "
      ],
      "metadata": {
        "colab": {
          "base_uri": "https://localhost:8080/"
        },
        "id": "XMGVALMqHBL7",
        "outputId": "c533642b-b25a-4f40-85a8-fbc22d4641c1"
      },
      "execution_count": null,
      "outputs": [
        {
          "output_type": "stream",
          "name": "stdout",
          "text": [
            "a is 50\n",
            "kwargs is {'first': 'Deep', 'mid': 'learning', 'last': 'DL', 'a1': 500, 'a2': 1000}\n"
          ]
        }
      ]
    },
    {
      "cell_type": "code",
      "source": [
        "def myFun(*args,**kwargs):\n",
        "  print(f\"data type of args is {type(args)}, individual elements are:\")\n",
        "  for arg in args:\n",
        "    print(arg)\n",
        "  print(f\"Keyworded arguments data type is :{type(kwargs)}, key value pair are: \")\n",
        "  for key, value in kwargs.items():\n",
        "        print (f\"Key : {key} --- value: {value}\")\n",
        "\n",
        "# Now we can use both *args ,**kwargs\n",
        "myFun('welcome','to','our', 'course',10,20,30,key1=\"deep\",key2=\"learning\",key3=\"masterclass\",n1=100,n2=500)"
      ],
      "metadata": {
        "id": "Y-hGPmoJHVoI"
      },
      "execution_count": null,
      "outputs": []
    },
    {
      "cell_type": "code",
      "source": [
        "# during function call, position argument should be followed by keyworded argument\n",
        "# Create a Function that accepts two numbers and print sum\n",
        "def add(a1=10,a2):\n",
        "  s = a1+a2\n",
        "  print(f\"Sum is {s}\")\n",
        "  return s"
      ],
      "metadata": {
        "colab": {
          "base_uri": "https://localhost:8080/",
          "height": 132
        },
        "id": "WtCCnCyIJ_Qn",
        "outputId": "45a0f342-cc46-48b4-b004-a4899f930523"
      },
      "execution_count": null,
      "outputs": [
        {
          "output_type": "error",
          "ename": "SyntaxError",
          "evalue": "ignored",
          "traceback": [
            "\u001b[0;36m  File \u001b[0;32m\"<ipython-input-23-5e8b001084a7>\"\u001b[0;36m, line \u001b[0;32m3\u001b[0m\n\u001b[0;31m    def add(a1=10,a2):\u001b[0m\n\u001b[0m           ^\u001b[0m\n\u001b[0;31mSyntaxError\u001b[0m\u001b[0;31m:\u001b[0m non-default argument follows default argument\n"
          ]
        }
      ]
    },
    {
      "cell_type": "code",
      "source": [
        "def add(a1,a2=20):\n",
        "  s = a1+a2\n",
        "  print(f\"Sum is {s}\")\n",
        "  return s"
      ],
      "metadata": {
        "id": "OVF-aq2PKVOH"
      },
      "execution_count": null,
      "outputs": []
    },
    {
      "cell_type": "code",
      "source": [
        "add(a1=10,100)"
      ],
      "metadata": {
        "colab": {
          "base_uri": "https://localhost:8080/",
          "height": 132
        },
        "id": "XCcOVPCpKY4q",
        "outputId": "1082d7f8-058a-4106-f95d-edbfb2f13dce"
      },
      "execution_count": null,
      "outputs": [
        {
          "output_type": "error",
          "ename": "SyntaxError",
          "evalue": "ignored",
          "traceback": [
            "\u001b[0;36m  File \u001b[0;32m\"<ipython-input-25-50c4ff3c36c6>\"\u001b[0;36m, line \u001b[0;32m1\u001b[0m\n\u001b[0;31m    add(a1=10,100)\u001b[0m\n\u001b[0m             ^\u001b[0m\n\u001b[0;31mSyntaxError\u001b[0m\u001b[0;31m:\u001b[0m positional argument follows keyword argument\n"
          ]
        }
      ]
    },
    {
      "cell_type": "markdown",
      "source": [
        "### Function calling another function\n",
        "\n",
        "Create a Function that takes two values, compute the Sum & average returns the result\n",
        "Create a Function which calls another function"
      ],
      "metadata": {
        "id": "4FQwFNEFIwlD"
      }
    },
    {
      "cell_type": "code",
      "source": [
        "def Sum(num1,num2):\n",
        "    return num1+num2\n",
        "\n",
        "def Average(num1,num2):\n",
        "    return (num1+num2)/2\n",
        "\n",
        "def F1(num1,num2):\n",
        "    add = Sum(num1,num2)\n",
        "    avg = Average(num1,num2)\n",
        "    return add,avg"
      ],
      "metadata": {
        "id": "h2mGG7t7Iw-w"
      },
      "execution_count": null,
      "outputs": []
    },
    {
      "cell_type": "code",
      "source": [
        "F1(10,20)"
      ],
      "metadata": {
        "colab": {
          "base_uri": "https://localhost:8080/"
        },
        "id": "ulq7Kf5wLK_J",
        "outputId": "6d2dd248-c123-42d3-db65-ff61825859ee"
      },
      "execution_count": null,
      "outputs": [
        {
          "output_type": "execute_result",
          "data": {
            "text/plain": [
              "(30, 15.0)"
            ]
          },
          "metadata": {},
          "execution_count": 26
        }
      ]
    },
    {
      "cell_type": "code",
      "source": [
        "#inner functions\n",
        "def outer_fun(a,b):\n",
        "  def inner_fun(c,d):\n",
        "    return c+d\n",
        "  return inner_fun(a,b)"
      ],
      "metadata": {
        "id": "6bU6jypsIzdY"
      },
      "execution_count": null,
      "outputs": []
    },
    {
      "cell_type": "code",
      "source": [
        "outer_fun(10,20)"
      ],
      "metadata": {
        "colab": {
          "base_uri": "https://localhost:8080/"
        },
        "id": "ZS0qd-VrLUxH",
        "outputId": "1ccd4ebe-70db-47a2-a5b8-3e461b8ac5c5"
      },
      "execution_count": null,
      "outputs": [
        {
          "output_type": "execute_result",
          "data": {
            "text/plain": [
              "30"
            ]
          },
          "metadata": {},
          "execution_count": 28
        }
      ]
    },
    {
      "cell_type": "markdown",
      "source": [
        "## Anonmyous Functions: Lambda\n",
        "\n",
        "A python `lambda` function is an anonymous function expressed as a single statement. We can use it instead of a normal tiny function\n",
        "\n",
        "**Syntax:**\n",
        "\n",
        "`lambda arguments:expression`"
      ],
      "metadata": {
        "id": "EH2fL4oTI-0v"
      }
    },
    {
      "cell_type": "code",
      "source": [
        "def result(sequence,func):\n",
        "  for val in sequence:\n",
        "    print(func(val))\n",
        "\n",
        "def operation(a):\n",
        "  return a**2"
      ],
      "metadata": {
        "id": "WSLcUT6tI_Iv"
      },
      "execution_count": null,
      "outputs": []
    },
    {
      "cell_type": "code",
      "source": [
        "ex_list = [1,2,3,4,5,6]\n",
        "result(sequence=ex_list,func=operation)"
      ],
      "metadata": {
        "colab": {
          "base_uri": "https://localhost:8080/"
        },
        "id": "jy1lugAfJFGf",
        "outputId": "7caf49fe-c433-4b2d-a00a-11a30fd18a1e"
      },
      "execution_count": null,
      "outputs": [
        {
          "output_type": "stream",
          "name": "stdout",
          "text": [
            "1\n",
            "4\n",
            "9\n",
            "16\n",
            "25\n",
            "36\n"
          ]
        }
      ]
    },
    {
      "cell_type": "markdown",
      "source": [
        "`var`=`lambda argument: expression`"
      ],
      "metadata": {
        "id": "rVKnZUEwMl7H"
      }
    },
    {
      "cell_type": "code",
      "source": [
        "f = lambda a : a**2"
      ],
      "metadata": {
        "id": "BYCgQleVJFXn"
      },
      "execution_count": null,
      "outputs": []
    },
    {
      "cell_type": "code",
      "source": [
        "f(10)"
      ],
      "metadata": {
        "colab": {
          "base_uri": "https://localhost:8080/"
        },
        "id": "sbLy4wNvMxRr",
        "outputId": "983fbf87-8901-431f-a2e5-bcd9682aa814"
      },
      "execution_count": null,
      "outputs": [
        {
          "output_type": "execute_result",
          "data": {
            "text/plain": [
              "100"
            ]
          },
          "metadata": {},
          "execution_count": 35
        }
      ]
    },
    {
      "cell_type": "code",
      "source": [
        "result(sequence=ex_list,func=f)"
      ],
      "metadata": {
        "colab": {
          "base_uri": "https://localhost:8080/"
        },
        "id": "JO_1NbMbJI-w",
        "outputId": "9534d61c-f70e-41fe-e8f9-d36ba1783c3c"
      },
      "execution_count": null,
      "outputs": [
        {
          "output_type": "stream",
          "name": "stdout",
          "text": [
            "1\n",
            "4\n",
            "9\n",
            "16\n",
            "25\n",
            "36\n"
          ]
        }
      ]
    },
    {
      "cell_type": "code",
      "source": [
        "result(ex_list,f)"
      ],
      "metadata": {
        "colab": {
          "base_uri": "https://localhost:8080/"
        },
        "id": "X2XDAWpTNGiF",
        "outputId": "edacfd02-e466-40b7-8ca0-d9e8e1b0fd12"
      },
      "execution_count": null,
      "outputs": [
        {
          "output_type": "stream",
          "name": "stdout",
          "text": [
            "1\n",
            "4\n",
            "9\n",
            "16\n",
            "25\n",
            "36\n"
          ]
        }
      ]
    },
    {
      "cell_type": "code",
      "source": [
        "f(5)"
      ],
      "metadata": {
        "colab": {
          "base_uri": "https://localhost:8080/"
        },
        "id": "LtbwFp19JKsG",
        "outputId": "cde6aa9a-4df4-453f-fa2a-eae41693ec2a"
      },
      "execution_count": null,
      "outputs": [
        {
          "output_type": "execute_result",
          "data": {
            "text/plain": [
              "25"
            ]
          },
          "metadata": {},
          "execution_count": 34
        }
      ]
    },
    {
      "cell_type": "code",
      "source": [
        "F4 = lambda x,y : x*y\n",
        "F4(5,6)"
      ],
      "metadata": {
        "colab": {
          "base_uri": "https://localhost:8080/"
        },
        "id": "yN3VcZj4JM7C",
        "outputId": "ba607355-e5e9-4858-be26-999bcb1eb2c7"
      },
      "execution_count": null,
      "outputs": [
        {
          "output_type": "execute_result",
          "data": {
            "text/plain": [
              "30"
            ]
          },
          "metadata": {},
          "execution_count": 36
        }
      ]
    },
    {
      "cell_type": "markdown",
      "source": [
        "## List Comprehension"
      ],
      "metadata": {
        "id": "voPllcz0JVBQ"
      }
    },
    {
      "cell_type": "code",
      "source": [
        "ex_list = [1,2,3,4,5,6,7,8,9,10]\n",
        "ex_listx2 = []\n",
        "for item in ex_list:\n",
        "  ex_listx2.append(item*2)"
      ],
      "metadata": {
        "id": "uztufM3TJWNH"
      },
      "execution_count": null,
      "outputs": []
    },
    {
      "cell_type": "code",
      "source": [
        "ex_listx2"
      ],
      "metadata": {
        "colab": {
          "base_uri": "https://localhost:8080/"
        },
        "id": "PRu_gX8NOWnI",
        "outputId": "f01a3ed9-817e-4baf-9895-b162ee8a24a4"
      },
      "execution_count": null,
      "outputs": [
        {
          "output_type": "execute_result",
          "data": {
            "text/plain": [
              "[2, 4, 6, 8, 10, 12, 14, 16, 18, 20]"
            ]
          },
          "metadata": {},
          "execution_count": 39
        }
      ]
    },
    {
      "cell_type": "markdown",
      "source": [
        "syntax:\n",
        "\n",
        " `[expression for item in iterable]`"
      ],
      "metadata": {
        "id": "Z4e9N1xrJYz_"
      }
    },
    {
      "cell_type": "code",
      "source": [
        "[item*2 for item in ex_list ]"
      ],
      "metadata": {
        "colab": {
          "base_uri": "https://localhost:8080/"
        },
        "id": "zNbeoRYpJXik",
        "outputId": "1d0bc544-bca3-48f8-885b-30e185f3ee15"
      },
      "execution_count": null,
      "outputs": [
        {
          "output_type": "execute_result",
          "data": {
            "text/plain": [
              "[2, 4, 6, 8, 10, 12, 14, 16, 18, 20]"
            ]
          },
          "metadata": {},
          "execution_count": 40
        }
      ]
    },
    {
      "cell_type": "markdown",
      "source": [
        "## `if` condition inside a list comprehension\n",
        "\n",
        "`[expression for item in iterable if condition]`"
      ],
      "metadata": {
        "id": "IPszbOwfJb7C"
      }
    },
    {
      "cell_type": "code",
      "source": [
        "#Returns only even numbers\n",
        "[item for item in ex_list if item%2==0 ]"
      ],
      "metadata": {
        "colab": {
          "base_uri": "https://localhost:8080/"
        },
        "id": "HEI0_lDTJac2",
        "outputId": "e12138c6-77cd-45ca-c662-b24744f47525"
      },
      "execution_count": null,
      "outputs": [
        {
          "output_type": "execute_result",
          "data": {
            "text/plain": [
              "[2, 4, 6, 8, 10]"
            ]
          },
          "metadata": {},
          "execution_count": 41
        }
      ]
    },
    {
      "cell_type": "markdown",
      "source": [
        "## `filter()`\n",
        "\n",
        "The filter() function in python takes in a function and a list of arguments\n",
        "\n",
        "Syntax: `filter(function, iterable)`"
      ],
      "metadata": {
        "id": "vRYwa5QrO9zF"
      }
    },
    {
      "cell_type": "code",
      "source": [
        "#filter(function, iterable)\n",
        "list_1 = [1,2,3,4,5,6,7,8,9]\n",
        "filter(lambda x: x%2==0, list_1)\n",
        "#Returns filter object"
      ],
      "metadata": {
        "colab": {
          "base_uri": "https://localhost:8080/"
        },
        "id": "WKuzsRk4O7nr",
        "outputId": "4bbc3065-1814-4c57-82e2-bf45c4712677"
      },
      "execution_count": null,
      "outputs": [
        {
          "output_type": "execute_result",
          "data": {
            "text/plain": [
              "<filter at 0x7fa52e81ad50>"
            ]
          },
          "metadata": {},
          "execution_count": 42
        }
      ]
    },
    {
      "cell_type": "code",
      "source": [
        "#convert to list\n",
        "list(filter(lambda x: x%2==0, list_1))"
      ],
      "metadata": {
        "colab": {
          "base_uri": "https://localhost:8080/"
        },
        "id": "V6ghvfkBPRx5",
        "outputId": "08c53843-1dd5-47eb-8e19-975505a5474a"
      },
      "execution_count": null,
      "outputs": [
        {
          "output_type": "execute_result",
          "data": {
            "text/plain": [
              "[2, 4, 6, 8]"
            ]
          },
          "metadata": {},
          "execution_count": 43
        }
      ]
    },
    {
      "cell_type": "markdown",
      "source": [
        "## Map\n",
        "\n",
        "This returns a modified list where every value in the original list has been changed based on a function. The example below cubes every number in the list."
      ],
      "metadata": {
        "id": "o_O8BxxpPY2r"
      }
    },
    {
      "cell_type": "code",
      "source": [
        "#map(function, iterable)\n",
        "list_1 = [1,2,3,4,5,6,7,8,9]\n",
        "map(lambda x: x**3, list_1)"
      ],
      "metadata": {
        "colab": {
          "base_uri": "https://localhost:8080/"
        },
        "id": "L3OprLFWPTsp",
        "outputId": "00876587-0513-4f77-ad61-7a7bf300d48a"
      },
      "execution_count": null,
      "outputs": [
        {
          "output_type": "execute_result",
          "data": {
            "text/plain": [
              "<map at 0x7fa52e7a2210>"
            ]
          },
          "metadata": {},
          "execution_count": 44
        }
      ]
    },
    {
      "cell_type": "code",
      "source": [
        "list(map(lambda x: x**3, list_1))"
      ],
      "metadata": {
        "colab": {
          "base_uri": "https://localhost:8080/"
        },
        "id": "87vy4W4lPlso",
        "outputId": "0981dd00-d48b-45fa-8376-9822fdca05b3"
      },
      "execution_count": null,
      "outputs": [
        {
          "output_type": "execute_result",
          "data": {
            "text/plain": [
              "[1, 8, 27, 64, 125, 216, 343, 512, 729]"
            ]
          },
          "metadata": {},
          "execution_count": 45
        }
      ]
    },
    {
      "cell_type": "code",
      "source": [
        "from functools import reduce\n",
        "product = reduce((lambda x,y: x*y), [1,2,3,4])"
      ],
      "metadata": {
        "id": "yJ5AM3RJPmel"
      },
      "execution_count": null,
      "outputs": []
    },
    {
      "cell_type": "code",
      "source": [
        "product"
      ],
      "metadata": {
        "id": "EYy1uzwnQV7u",
        "outputId": "5ec4424c-2380-4c63-af81-b6aa3bbab1b4",
        "colab": {
          "base_uri": "https://localhost:8080/"
        }
      },
      "execution_count": null,
      "outputs": [
        {
          "output_type": "execute_result",
          "data": {
            "text/plain": [
              "24"
            ]
          },
          "metadata": {},
          "execution_count": 48
        }
      ]
    },
    {
      "cell_type": "code",
      "source": [
        ""
      ],
      "metadata": {
        "id": "LvYFhAP7QWc8"
      },
      "execution_count": null,
      "outputs": []
    }
  ]
}